{
  "nbformat": 4,
  "nbformat_minor": 0,
  "metadata": {
    "colab": {
      "provenance": []
    },
    "kernelspec": {
      "name": "python3",
      "display_name": "Python 3"
    },
    "language_info": {
      "name": "python"
    }
  },
  "cells": [
    {
      "cell_type": "markdown",
      "source": [
        "Debanhy Alvarado Rivera 1914796\n",
        "\n",
        "Edith Estefanía Gonzalez Vallejo 1900388\n",
        "\n",
        "Annya Michelle Treviño Mendiola 1899837\n",
        "\n",
        "Valeria Olvera Casillas 1896082"
      ],
      "metadata": {
        "id": "a9WAprRmkezR"
      }
    },
    {
      "cell_type": "code",
      "source": [
        "! pip install -q kaggle\n",
        "from google.colab import files\n",
        "files.upload()"
      ],
      "metadata": {
        "colab": {
          "base_uri": "https://localhost:8080/",
          "height": 90
        },
        "id": "MyXdDZrbe6is",
        "outputId": "e733212c-0c35-4480-cff1-8c93ec097ab8"
      },
      "execution_count": null,
      "outputs": [
        {
          "output_type": "display_data",
          "data": {
            "text/plain": [
              "<IPython.core.display.HTML object>"
            ],
            "text/html": [
              "\n",
              "     <input type=\"file\" id=\"files-3094e8c8-4fe0-477f-9435-6481893d724b\" name=\"files[]\" multiple disabled\n",
              "        style=\"border:none\" />\n",
              "     <output id=\"result-3094e8c8-4fe0-477f-9435-6481893d724b\">\n",
              "      Upload widget is only available when the cell has been executed in the\n",
              "      current browser session. Please rerun this cell to enable.\n",
              "      </output>\n",
              "      <script>// Copyright 2017 Google LLC\n",
              "//\n",
              "// Licensed under the Apache License, Version 2.0 (the \"License\");\n",
              "// you may not use this file except in compliance with the License.\n",
              "// You may obtain a copy of the License at\n",
              "//\n",
              "//      http://www.apache.org/licenses/LICENSE-2.0\n",
              "//\n",
              "// Unless required by applicable law or agreed to in writing, software\n",
              "// distributed under the License is distributed on an \"AS IS\" BASIS,\n",
              "// WITHOUT WARRANTIES OR CONDITIONS OF ANY KIND, either express or implied.\n",
              "// See the License for the specific language governing permissions and\n",
              "// limitations under the License.\n",
              "\n",
              "/**\n",
              " * @fileoverview Helpers for google.colab Python module.\n",
              " */\n",
              "(function(scope) {\n",
              "function span(text, styleAttributes = {}) {\n",
              "  const element = document.createElement('span');\n",
              "  element.textContent = text;\n",
              "  for (const key of Object.keys(styleAttributes)) {\n",
              "    element.style[key] = styleAttributes[key];\n",
              "  }\n",
              "  return element;\n",
              "}\n",
              "\n",
              "// Max number of bytes which will be uploaded at a time.\n",
              "const MAX_PAYLOAD_SIZE = 100 * 1024;\n",
              "\n",
              "function _uploadFiles(inputId, outputId) {\n",
              "  const steps = uploadFilesStep(inputId, outputId);\n",
              "  const outputElement = document.getElementById(outputId);\n",
              "  // Cache steps on the outputElement to make it available for the next call\n",
              "  // to uploadFilesContinue from Python.\n",
              "  outputElement.steps = steps;\n",
              "\n",
              "  return _uploadFilesContinue(outputId);\n",
              "}\n",
              "\n",
              "// This is roughly an async generator (not supported in the browser yet),\n",
              "// where there are multiple asynchronous steps and the Python side is going\n",
              "// to poll for completion of each step.\n",
              "// This uses a Promise to block the python side on completion of each step,\n",
              "// then passes the result of the previous step as the input to the next step.\n",
              "function _uploadFilesContinue(outputId) {\n",
              "  const outputElement = document.getElementById(outputId);\n",
              "  const steps = outputElement.steps;\n",
              "\n",
              "  const next = steps.next(outputElement.lastPromiseValue);\n",
              "  return Promise.resolve(next.value.promise).then((value) => {\n",
              "    // Cache the last promise value to make it available to the next\n",
              "    // step of the generator.\n",
              "    outputElement.lastPromiseValue = value;\n",
              "    return next.value.response;\n",
              "  });\n",
              "}\n",
              "\n",
              "/**\n",
              " * Generator function which is called between each async step of the upload\n",
              " * process.\n",
              " * @param {string} inputId Element ID of the input file picker element.\n",
              " * @param {string} outputId Element ID of the output display.\n",
              " * @return {!Iterable<!Object>} Iterable of next steps.\n",
              " */\n",
              "function* uploadFilesStep(inputId, outputId) {\n",
              "  const inputElement = document.getElementById(inputId);\n",
              "  inputElement.disabled = false;\n",
              "\n",
              "  const outputElement = document.getElementById(outputId);\n",
              "  outputElement.innerHTML = '';\n",
              "\n",
              "  const pickedPromise = new Promise((resolve) => {\n",
              "    inputElement.addEventListener('change', (e) => {\n",
              "      resolve(e.target.files);\n",
              "    });\n",
              "  });\n",
              "\n",
              "  const cancel = document.createElement('button');\n",
              "  inputElement.parentElement.appendChild(cancel);\n",
              "  cancel.textContent = 'Cancel upload';\n",
              "  const cancelPromise = new Promise((resolve) => {\n",
              "    cancel.onclick = () => {\n",
              "      resolve(null);\n",
              "    };\n",
              "  });\n",
              "\n",
              "  // Wait for the user to pick the files.\n",
              "  const files = yield {\n",
              "    promise: Promise.race([pickedPromise, cancelPromise]),\n",
              "    response: {\n",
              "      action: 'starting',\n",
              "    }\n",
              "  };\n",
              "\n",
              "  cancel.remove();\n",
              "\n",
              "  // Disable the input element since further picks are not allowed.\n",
              "  inputElement.disabled = true;\n",
              "\n",
              "  if (!files) {\n",
              "    return {\n",
              "      response: {\n",
              "        action: 'complete',\n",
              "      }\n",
              "    };\n",
              "  }\n",
              "\n",
              "  for (const file of files) {\n",
              "    const li = document.createElement('li');\n",
              "    li.append(span(file.name, {fontWeight: 'bold'}));\n",
              "    li.append(span(\n",
              "        `(${file.type || 'n/a'}) - ${file.size} bytes, ` +\n",
              "        `last modified: ${\n",
              "            file.lastModifiedDate ? file.lastModifiedDate.toLocaleDateString() :\n",
              "                                    'n/a'} - `));\n",
              "    const percent = span('0% done');\n",
              "    li.appendChild(percent);\n",
              "\n",
              "    outputElement.appendChild(li);\n",
              "\n",
              "    const fileDataPromise = new Promise((resolve) => {\n",
              "      const reader = new FileReader();\n",
              "      reader.onload = (e) => {\n",
              "        resolve(e.target.result);\n",
              "      };\n",
              "      reader.readAsArrayBuffer(file);\n",
              "    });\n",
              "    // Wait for the data to be ready.\n",
              "    let fileData = yield {\n",
              "      promise: fileDataPromise,\n",
              "      response: {\n",
              "        action: 'continue',\n",
              "      }\n",
              "    };\n",
              "\n",
              "    // Use a chunked sending to avoid message size limits. See b/62115660.\n",
              "    let position = 0;\n",
              "    do {\n",
              "      const length = Math.min(fileData.byteLength - position, MAX_PAYLOAD_SIZE);\n",
              "      const chunk = new Uint8Array(fileData, position, length);\n",
              "      position += length;\n",
              "\n",
              "      const base64 = btoa(String.fromCharCode.apply(null, chunk));\n",
              "      yield {\n",
              "        response: {\n",
              "          action: 'append',\n",
              "          file: file.name,\n",
              "          data: base64,\n",
              "        },\n",
              "      };\n",
              "\n",
              "      let percentDone = fileData.byteLength === 0 ?\n",
              "          100 :\n",
              "          Math.round((position / fileData.byteLength) * 100);\n",
              "      percent.textContent = `${percentDone}% done`;\n",
              "\n",
              "    } while (position < fileData.byteLength);\n",
              "  }\n",
              "\n",
              "  // All done.\n",
              "  yield {\n",
              "    response: {\n",
              "      action: 'complete',\n",
              "    }\n",
              "  };\n",
              "}\n",
              "\n",
              "scope.google = scope.google || {};\n",
              "scope.google.colab = scope.google.colab || {};\n",
              "scope.google.colab._files = {\n",
              "  _uploadFiles,\n",
              "  _uploadFilesContinue,\n",
              "};\n",
              "})(self);\n",
              "</script> "
            ]
          },
          "metadata": {}
        },
        {
          "output_type": "stream",
          "name": "stdout",
          "text": [
            "Saving kaggle.json to kaggle.json\n"
          ]
        },
        {
          "output_type": "execute_result",
          "data": {
            "text/plain": [
              "{'kaggle.json': b'{\"username\":\"debanhyrivera\",\"key\":\"784b3a41d22621a2d98956c6e2be65e1\"}'}"
            ]
          },
          "metadata": {},
          "execution_count": 1
        }
      ]
    },
    {
      "cell_type": "code",
      "source": [
        "! cp kaggle.json ~/.kaggle/\n",
        "!chmod 600 ~/.kaggle/kaggle.json\n",
        "! kaggle datasets list"
      ],
      "metadata": {
        "colab": {
          "base_uri": "https://localhost:8080/"
        },
        "id": "FXoonbcxhY7Q",
        "outputId": "e06076d9-bdfd-4a9d-ebca-205f1ea5395b"
      },
      "execution_count": null,
      "outputs": [
        {
          "output_type": "stream",
          "name": "stdout",
          "text": [
            "ref                                                         title                                                size  lastUpdated          downloadCount  voteCount  usabilityRating  \n",
            "----------------------------------------------------------  --------------------------------------------------  -----  -------------------  -------------  ---------  ---------------  \n",
            "akshaydattatraykhare/diabetes-dataset                       Diabetes Dataset                                      9KB  2022-10-06 08:55:25          18024        512  1.0              \n",
            "akshaydattatraykhare/data-for-admission-in-the-university   Data for Admission in the University                  4KB  2022-10-27 11:05:45           5083        118  1.0              \n",
            "thedevastator/jobs-dataset-from-glassdoor                   Salary Prediction                                     3MB  2022-11-16 13:52:31           1444         43  1.0              \n",
            "meirnizri/covid19-dataset                                   COVID-19 Dataset                                      5MB  2022-11-13 15:47:17           2057         65  1.0              \n",
            "piterfm/fifa-football-world-cup                             FIFA Football World Cup                              70KB  2022-11-25 09:58:30            980         41  1.0              \n",
            "dheerajmukati/india-gdp-19602022                            India GDP 1960-2022                                   1KB  2022-11-11 12:08:46            942         30  1.0              \n",
            "whenamancodes/predict-diabities                             Predict Diabetes                                      9KB  2022-11-09 12:18:49           2522         58  1.0              \n",
            "zvr842/global-pollution-by-counties                         Global pollution by counties                         15KB  2022-11-14 10:57:31           1012         26  0.9705882        \n",
            "elmoallistair/commodity-prices-19602021                     Commodity Prices                                      5KB  2022-11-20 12:41:51            632         27  0.9117647        \n",
            "whenamancodes/credit-card-customers-prediction              Credit Card Customers Prediction                    379KB  2022-10-30 13:03:27           3278         71  1.0              \n",
            "swaptr/layoffs-2022                                         Layoffs 2022                                         30KB  2022-11-25 15:08:47           1606         43  1.0              \n",
            "whenamancodes/covid-19-coronavirus-pandemic-dataset         COVID -19 Coronavirus Pandemic Dataset               11KB  2022-09-30 04:05:11          12366        384  1.0              \n",
            "jillanisofttech/flight-price-prediction-dataset             Flight Price Prediction DataSet                     602KB  2022-11-18 10:37:29            990         32  0.7941176        \n",
            "sayanroy729/fifa-worldcup-2022-results                      Fifa Worldcup 2022 Results                            2KB  2022-11-25 04:25:07            327         23  1.0              \n",
            "ifteshanajnin/carinsuranceclaimprediction-classification    Car Insurance Claim Prediction                        2MB  2022-11-14 15:38:26            903         27  1.0              \n",
            "dbarteaux99/stable-diffusion-1-5                            Stable Diffusion 1.5 (normal and EMAonly) with vae    7GB  2022-10-23 15:40:29             51         16  0.9375           \n",
            "maharshipandya/-spotify-tracks-dataset                      🎹 Spotify Tracks Dataset                              8MB  2022-10-22 14:40:15           4035        107  1.0              \n",
            "aneesayoub/world-universities-ranking-2022                  World Universities Ranking 2022                      41KB  2022-11-17 03:47:37           1438         38  0.9117647        \n",
            "hasibalmuzdadid/global-air-pollution-dataset                Global Air Pollution Dataset                        371KB  2022-11-08 14:43:32           2344         62  1.0              \n",
            "thedevastator/cancer-patients-and-air-pollution-a-new-link   Lung Cancer Prediction                               7KB  2022-11-14 13:40:40           1281         40  1.0              \n"
          ]
        }
      ]
    },
    {
      "cell_type": "code",
      "source": [
        "! kaggle datasets download -d navoneel/brain-mri-images-for-brain-tumor-detection"
      ],
      "metadata": {
        "colab": {
          "base_uri": "https://localhost:8080/"
        },
        "id": "vHR6q9kniO9H",
        "outputId": "e5969a4d-973f-4236-c2fe-d0f1a6c191ec"
      },
      "execution_count": null,
      "outputs": [
        {
          "output_type": "stream",
          "name": "stdout",
          "text": [
            "brain-mri-images-for-brain-tumor-detection.zip: Skipping, found more recently modified local copy (use --force to force download)\n"
          ]
        }
      ]
    },
    {
      "cell_type": "code",
      "source": [
        "from google.colab import drive\n",
        "drive.mount('/content/drive/')\n",
        "!mkdir '/content/drive/My Drive/Colab Notebooks/db/'\n",
        "!unzip brain-mri-images-for-brain-tumor-detection.zip -d '/content/drive/My Drive/Colab Notebooks/db/'"
      ],
      "metadata": {
        "colab": {
          "base_uri": "https://localhost:8080/"
        },
        "id": "ppXX3frLkarV",
        "outputId": "0b9a54ac-2ea1-4e6d-bb42-bdebf10b2b01"
      },
      "execution_count": null,
      "outputs": [
        {
          "output_type": "stream",
          "name": "stdout",
          "text": [
            "Drive already mounted at /content/drive/; to attempt to forcibly remount, call drive.mount(\"/content/drive/\", force_remount=True).\n",
            "mkdir: cannot create directory ‘/content/drive/My Drive/Colab Notebooks/db/’: File exists\n",
            "Archive:  brain-mri-images-for-brain-tumor-detection.zip\n",
            "replace /content/drive/My Drive/Colab Notebooks/db/brain_tumor_dataset/no/1 no.jpeg? [y]es, [n]o, [A]ll, [N]one, [r]ename: A\n",
            "  inflating: /content/drive/My Drive/Colab Notebooks/db/brain_tumor_dataset/no/1 no.jpeg  \n",
            "  inflating: /content/drive/My Drive/Colab Notebooks/db/brain_tumor_dataset/no/10 no.jpg  \n",
            "  inflating: /content/drive/My Drive/Colab Notebooks/db/brain_tumor_dataset/no/11 no.jpg  \n",
            "  inflating: /content/drive/My Drive/Colab Notebooks/db/brain_tumor_dataset/no/12 no.jpg  \n",
            "  inflating: /content/drive/My Drive/Colab Notebooks/db/brain_tumor_dataset/no/13 no.jpg  \n",
            "  inflating: /content/drive/My Drive/Colab Notebooks/db/brain_tumor_dataset/no/14 no.jpg  \n",
            "  inflating: /content/drive/My Drive/Colab Notebooks/db/brain_tumor_dataset/no/15 no.jpg  \n",
            "  inflating: /content/drive/My Drive/Colab Notebooks/db/brain_tumor_dataset/no/17 no.jpg  \n",
            "  inflating: /content/drive/My Drive/Colab Notebooks/db/brain_tumor_dataset/no/18 no.jpg  \n",
            "  inflating: /content/drive/My Drive/Colab Notebooks/db/brain_tumor_dataset/no/19 no.jpg  \n",
            "  inflating: /content/drive/My Drive/Colab Notebooks/db/brain_tumor_dataset/no/2 no.jpeg  \n",
            "  inflating: /content/drive/My Drive/Colab Notebooks/db/brain_tumor_dataset/no/20 no.jpg  \n",
            "  inflating: /content/drive/My Drive/Colab Notebooks/db/brain_tumor_dataset/no/21 no.jpg  \n",
            "  inflating: /content/drive/My Drive/Colab Notebooks/db/brain_tumor_dataset/no/22 no.jpg  \n",
            "  inflating: /content/drive/My Drive/Colab Notebooks/db/brain_tumor_dataset/no/23 no.jpg  \n",
            "  inflating: /content/drive/My Drive/Colab Notebooks/db/brain_tumor_dataset/no/24 no.jpg  \n",
            "  inflating: /content/drive/My Drive/Colab Notebooks/db/brain_tumor_dataset/no/25 no.jpg  \n",
            "  inflating: /content/drive/My Drive/Colab Notebooks/db/brain_tumor_dataset/no/26 no.jpg  \n",
            "  inflating: /content/drive/My Drive/Colab Notebooks/db/brain_tumor_dataset/no/27 no.jpg  \n",
            "  inflating: /content/drive/My Drive/Colab Notebooks/db/brain_tumor_dataset/no/28 no.jpg  \n",
            "  inflating: /content/drive/My Drive/Colab Notebooks/db/brain_tumor_dataset/no/29 no.jpg  \n",
            "  inflating: /content/drive/My Drive/Colab Notebooks/db/brain_tumor_dataset/no/3 no.jpg  \n",
            "  inflating: /content/drive/My Drive/Colab Notebooks/db/brain_tumor_dataset/no/30 no.jpg  \n",
            "  inflating: /content/drive/My Drive/Colab Notebooks/db/brain_tumor_dataset/no/31 no.jpg  \n",
            "  inflating: /content/drive/My Drive/Colab Notebooks/db/brain_tumor_dataset/no/32 no.jpg  \n",
            "  inflating: /content/drive/My Drive/Colab Notebooks/db/brain_tumor_dataset/no/33 no.jpg  \n",
            "  inflating: /content/drive/My Drive/Colab Notebooks/db/brain_tumor_dataset/no/34 no.jpg  \n",
            "  inflating: /content/drive/My Drive/Colab Notebooks/db/brain_tumor_dataset/no/35 no.jpg  \n",
            "  inflating: /content/drive/My Drive/Colab Notebooks/db/brain_tumor_dataset/no/36 no.jpg  \n",
            "  inflating: /content/drive/My Drive/Colab Notebooks/db/brain_tumor_dataset/no/37 no.jpg  \n",
            "  inflating: /content/drive/My Drive/Colab Notebooks/db/brain_tumor_dataset/no/38 no.jpg  \n",
            "  inflating: /content/drive/My Drive/Colab Notebooks/db/brain_tumor_dataset/no/39 no.jpg  \n",
            "  inflating: /content/drive/My Drive/Colab Notebooks/db/brain_tumor_dataset/no/4 no.jpg  \n",
            "  inflating: /content/drive/My Drive/Colab Notebooks/db/brain_tumor_dataset/no/40 no.jpg  \n",
            "  inflating: /content/drive/My Drive/Colab Notebooks/db/brain_tumor_dataset/no/41 no.jpg  \n",
            "  inflating: /content/drive/My Drive/Colab Notebooks/db/brain_tumor_dataset/no/42 no.jpg  \n",
            "  inflating: /content/drive/My Drive/Colab Notebooks/db/brain_tumor_dataset/no/43 no.jpg  \n",
            "  inflating: /content/drive/My Drive/Colab Notebooks/db/brain_tumor_dataset/no/44no.jpg  \n",
            "  inflating: /content/drive/My Drive/Colab Notebooks/db/brain_tumor_dataset/no/45 no.jpg  \n",
            "  inflating: /content/drive/My Drive/Colab Notebooks/db/brain_tumor_dataset/no/46 no.jpg  \n",
            "  inflating: /content/drive/My Drive/Colab Notebooks/db/brain_tumor_dataset/no/47 no.jpg  \n",
            "  inflating: /content/drive/My Drive/Colab Notebooks/db/brain_tumor_dataset/no/48 no.jpeg  \n",
            "  inflating: /content/drive/My Drive/Colab Notebooks/db/brain_tumor_dataset/no/49 no.jpg  \n",
            "  inflating: /content/drive/My Drive/Colab Notebooks/db/brain_tumor_dataset/no/5 no.jpg  \n",
            "  inflating: /content/drive/My Drive/Colab Notebooks/db/brain_tumor_dataset/no/50 no.jpg  \n",
            "  inflating: /content/drive/My Drive/Colab Notebooks/db/brain_tumor_dataset/no/6 no.jpg  \n",
            "  inflating: /content/drive/My Drive/Colab Notebooks/db/brain_tumor_dataset/no/7 no.jpg  \n",
            "  inflating: /content/drive/My Drive/Colab Notebooks/db/brain_tumor_dataset/no/8 no.jpg  \n",
            "  inflating: /content/drive/My Drive/Colab Notebooks/db/brain_tumor_dataset/no/9 no.jpg  \n",
            "  inflating: /content/drive/My Drive/Colab Notebooks/db/brain_tumor_dataset/no/N1.JPG  \n",
            "  inflating: /content/drive/My Drive/Colab Notebooks/db/brain_tumor_dataset/no/N11.jpg  \n",
            "  inflating: /content/drive/My Drive/Colab Notebooks/db/brain_tumor_dataset/no/N15.jpg  \n",
            "  inflating: /content/drive/My Drive/Colab Notebooks/db/brain_tumor_dataset/no/N16.jpg  \n",
            "  inflating: /content/drive/My Drive/Colab Notebooks/db/brain_tumor_dataset/no/N17.jpg  \n",
            "  inflating: /content/drive/My Drive/Colab Notebooks/db/brain_tumor_dataset/no/N19.JPG  \n",
            "  inflating: /content/drive/My Drive/Colab Notebooks/db/brain_tumor_dataset/no/N2.JPG  \n",
            "  inflating: /content/drive/My Drive/Colab Notebooks/db/brain_tumor_dataset/no/N20.JPG  \n",
            "  inflating: /content/drive/My Drive/Colab Notebooks/db/brain_tumor_dataset/no/N21.jpg  \n",
            "  inflating: /content/drive/My Drive/Colab Notebooks/db/brain_tumor_dataset/no/N22.JPG  \n",
            "  inflating: /content/drive/My Drive/Colab Notebooks/db/brain_tumor_dataset/no/N26.JPG  \n",
            "  inflating: /content/drive/My Drive/Colab Notebooks/db/brain_tumor_dataset/no/N3.jpg  \n",
            "  inflating: /content/drive/My Drive/Colab Notebooks/db/brain_tumor_dataset/no/N5.jpg  \n",
            "  inflating: /content/drive/My Drive/Colab Notebooks/db/brain_tumor_dataset/no/N6.jpg  \n",
            "  inflating: /content/drive/My Drive/Colab Notebooks/db/brain_tumor_dataset/no/No11.jpg  \n",
            "  inflating: /content/drive/My Drive/Colab Notebooks/db/brain_tumor_dataset/no/No12.jpg  \n",
            "  inflating: /content/drive/My Drive/Colab Notebooks/db/brain_tumor_dataset/no/No13.jpg  \n",
            "  inflating: /content/drive/My Drive/Colab Notebooks/db/brain_tumor_dataset/no/No14.jpg  \n",
            "  inflating: /content/drive/My Drive/Colab Notebooks/db/brain_tumor_dataset/no/No15.jpg  \n",
            "  inflating: /content/drive/My Drive/Colab Notebooks/db/brain_tumor_dataset/no/No16.jpg  \n",
            "  inflating: /content/drive/My Drive/Colab Notebooks/db/brain_tumor_dataset/no/No17.jpg  \n",
            "  inflating: /content/drive/My Drive/Colab Notebooks/db/brain_tumor_dataset/no/No18.jpg  \n",
            "  inflating: /content/drive/My Drive/Colab Notebooks/db/brain_tumor_dataset/no/No19.jpg  \n",
            "  inflating: /content/drive/My Drive/Colab Notebooks/db/brain_tumor_dataset/no/No20.jpg  \n",
            "  inflating: /content/drive/My Drive/Colab Notebooks/db/brain_tumor_dataset/no/No21.jpg  \n",
            "  inflating: /content/drive/My Drive/Colab Notebooks/db/brain_tumor_dataset/no/No22.jpg  \n",
            "  inflating: /content/drive/My Drive/Colab Notebooks/db/brain_tumor_dataset/no/no 1.jpg  \n",
            "  inflating: /content/drive/My Drive/Colab Notebooks/db/brain_tumor_dataset/no/no 10.jpg  \n",
            "  inflating: /content/drive/My Drive/Colab Notebooks/db/brain_tumor_dataset/no/no 100.jpg  \n",
            "  inflating: /content/drive/My Drive/Colab Notebooks/db/brain_tumor_dataset/no/no 2.jpg  \n",
            "  inflating: /content/drive/My Drive/Colab Notebooks/db/brain_tumor_dataset/no/no 3.jpg  \n",
            "  inflating: /content/drive/My Drive/Colab Notebooks/db/brain_tumor_dataset/no/no 4.jpg  \n",
            "  inflating: /content/drive/My Drive/Colab Notebooks/db/brain_tumor_dataset/no/no 5.jpeg  \n",
            "  inflating: /content/drive/My Drive/Colab Notebooks/db/brain_tumor_dataset/no/no 6.jpg  \n",
            "  inflating: /content/drive/My Drive/Colab Notebooks/db/brain_tumor_dataset/no/no 7.jpeg  \n",
            "  inflating: /content/drive/My Drive/Colab Notebooks/db/brain_tumor_dataset/no/no 8.jpg  \n",
            "  inflating: /content/drive/My Drive/Colab Notebooks/db/brain_tumor_dataset/no/no 89.jpg  \n",
            "  inflating: /content/drive/My Drive/Colab Notebooks/db/brain_tumor_dataset/no/no 9.png  \n",
            "  inflating: /content/drive/My Drive/Colab Notebooks/db/brain_tumor_dataset/no/no 90.jpg  \n",
            "  inflating: /content/drive/My Drive/Colab Notebooks/db/brain_tumor_dataset/no/no 91.jpeg  \n",
            "  inflating: /content/drive/My Drive/Colab Notebooks/db/brain_tumor_dataset/no/no 92.jpg  \n",
            "  inflating: /content/drive/My Drive/Colab Notebooks/db/brain_tumor_dataset/no/no 923.jpg  \n",
            "  inflating: /content/drive/My Drive/Colab Notebooks/db/brain_tumor_dataset/no/no 94.jpg  \n",
            "  inflating: /content/drive/My Drive/Colab Notebooks/db/brain_tumor_dataset/no/no 95.jpg  \n",
            "  inflating: /content/drive/My Drive/Colab Notebooks/db/brain_tumor_dataset/no/no 96.jpg  \n",
            "  inflating: /content/drive/My Drive/Colab Notebooks/db/brain_tumor_dataset/no/no 97.jpg  \n",
            "  inflating: /content/drive/My Drive/Colab Notebooks/db/brain_tumor_dataset/no/no 98.jpg  \n",
            "  inflating: /content/drive/My Drive/Colab Notebooks/db/brain_tumor_dataset/no/no 99.jpg  \n",
            "  inflating: /content/drive/My Drive/Colab Notebooks/db/brain_tumor_dataset/no/no.jpg  \n",
            "  inflating: /content/drive/My Drive/Colab Notebooks/db/brain_tumor_dataset/yes/Y1.jpg  \n",
            "  inflating: /content/drive/My Drive/Colab Notebooks/db/brain_tumor_dataset/yes/Y10.jpg  \n",
            "  inflating: /content/drive/My Drive/Colab Notebooks/db/brain_tumor_dataset/yes/Y100.JPG  \n",
            "  inflating: /content/drive/My Drive/Colab Notebooks/db/brain_tumor_dataset/yes/Y101.jpg  \n",
            "  inflating: /content/drive/My Drive/Colab Notebooks/db/brain_tumor_dataset/yes/Y102.jpg  \n",
            "  inflating: /content/drive/My Drive/Colab Notebooks/db/brain_tumor_dataset/yes/Y103.jpg  \n",
            "  inflating: /content/drive/My Drive/Colab Notebooks/db/brain_tumor_dataset/yes/Y104.jpg  \n",
            "  inflating: /content/drive/My Drive/Colab Notebooks/db/brain_tumor_dataset/yes/Y105.jpg  \n",
            "  inflating: /content/drive/My Drive/Colab Notebooks/db/brain_tumor_dataset/yes/Y106.jpg  \n",
            "  inflating: /content/drive/My Drive/Colab Notebooks/db/brain_tumor_dataset/yes/Y107.jpg  \n",
            "  inflating: /content/drive/My Drive/Colab Notebooks/db/brain_tumor_dataset/yes/Y108.jpg  \n",
            "  inflating: /content/drive/My Drive/Colab Notebooks/db/brain_tumor_dataset/yes/Y109.JPG  \n",
            "  inflating: /content/drive/My Drive/Colab Notebooks/db/brain_tumor_dataset/yes/Y11.jpg  \n",
            "  inflating: /content/drive/My Drive/Colab Notebooks/db/brain_tumor_dataset/yes/Y111.JPG  \n",
            "  inflating: /content/drive/My Drive/Colab Notebooks/db/brain_tumor_dataset/yes/Y112.JPG  \n",
            "  inflating: /content/drive/My Drive/Colab Notebooks/db/brain_tumor_dataset/yes/Y113.JPG  \n",
            "  inflating: /content/drive/My Drive/Colab Notebooks/db/brain_tumor_dataset/yes/Y114.JPG  \n",
            "  inflating: /content/drive/My Drive/Colab Notebooks/db/brain_tumor_dataset/yes/Y115.JPG  \n",
            "  inflating: /content/drive/My Drive/Colab Notebooks/db/brain_tumor_dataset/yes/Y116.JPG  \n",
            "  inflating: /content/drive/My Drive/Colab Notebooks/db/brain_tumor_dataset/yes/Y117.JPG  \n",
            "  inflating: /content/drive/My Drive/Colab Notebooks/db/brain_tumor_dataset/yes/Y12.jpg  \n",
            "  inflating: /content/drive/My Drive/Colab Notebooks/db/brain_tumor_dataset/yes/Y120.JPG  \n",
            "  inflating: /content/drive/My Drive/Colab Notebooks/db/brain_tumor_dataset/yes/Y13.jpg  \n",
            "  inflating: /content/drive/My Drive/Colab Notebooks/db/brain_tumor_dataset/yes/Y14.jpg  \n",
            "  inflating: /content/drive/My Drive/Colab Notebooks/db/brain_tumor_dataset/yes/Y146.JPG  \n",
            "  inflating: /content/drive/My Drive/Colab Notebooks/db/brain_tumor_dataset/yes/Y147.JPG  \n",
            "  inflating: /content/drive/My Drive/Colab Notebooks/db/brain_tumor_dataset/yes/Y148.JPG  \n",
            "  inflating: /content/drive/My Drive/Colab Notebooks/db/brain_tumor_dataset/yes/Y15.jpg  \n",
            "  inflating: /content/drive/My Drive/Colab Notebooks/db/brain_tumor_dataset/yes/Y153.jpg  \n",
            "  inflating: /content/drive/My Drive/Colab Notebooks/db/brain_tumor_dataset/yes/Y154.jpg  \n",
            "  inflating: /content/drive/My Drive/Colab Notebooks/db/brain_tumor_dataset/yes/Y155.JPG  \n",
            "  inflating: /content/drive/My Drive/Colab Notebooks/db/brain_tumor_dataset/yes/Y156.JPG  \n",
            "  inflating: /content/drive/My Drive/Colab Notebooks/db/brain_tumor_dataset/yes/Y157.JPG  \n",
            "  inflating: /content/drive/My Drive/Colab Notebooks/db/brain_tumor_dataset/yes/Y158.JPG  \n",
            "  inflating: /content/drive/My Drive/Colab Notebooks/db/brain_tumor_dataset/yes/Y159.JPG  \n",
            "  inflating: /content/drive/My Drive/Colab Notebooks/db/brain_tumor_dataset/yes/Y16.JPG  \n",
            "  inflating: /content/drive/My Drive/Colab Notebooks/db/brain_tumor_dataset/yes/Y160.JPG  \n",
            "  inflating: /content/drive/My Drive/Colab Notebooks/db/brain_tumor_dataset/yes/Y161.JPG  \n",
            "  inflating: /content/drive/My Drive/Colab Notebooks/db/brain_tumor_dataset/yes/Y162.jpg  \n",
            "  inflating: /content/drive/My Drive/Colab Notebooks/db/brain_tumor_dataset/yes/Y163.JPG  \n",
            "  inflating: /content/drive/My Drive/Colab Notebooks/db/brain_tumor_dataset/yes/Y164.JPG  \n",
            "  inflating: /content/drive/My Drive/Colab Notebooks/db/brain_tumor_dataset/yes/Y165.JPG  \n",
            "  inflating: /content/drive/My Drive/Colab Notebooks/db/brain_tumor_dataset/yes/Y166.JPG  \n",
            "  inflating: /content/drive/My Drive/Colab Notebooks/db/brain_tumor_dataset/yes/Y167.JPG  \n",
            "  inflating: /content/drive/My Drive/Colab Notebooks/db/brain_tumor_dataset/yes/Y168.jpg  \n",
            "  inflating: /content/drive/My Drive/Colab Notebooks/db/brain_tumor_dataset/yes/Y169.jpg  \n",
            "  inflating: /content/drive/My Drive/Colab Notebooks/db/brain_tumor_dataset/yes/Y17.jpg  \n",
            "  inflating: /content/drive/My Drive/Colab Notebooks/db/brain_tumor_dataset/yes/Y170.JPG  \n",
            "  inflating: /content/drive/My Drive/Colab Notebooks/db/brain_tumor_dataset/yes/Y18.JPG  \n",
            "  inflating: /content/drive/My Drive/Colab Notebooks/db/brain_tumor_dataset/yes/Y180.jpg  \n",
            "  inflating: /content/drive/My Drive/Colab Notebooks/db/brain_tumor_dataset/yes/Y181.jpg  \n",
            "  inflating: /content/drive/My Drive/Colab Notebooks/db/brain_tumor_dataset/yes/Y182.JPG  \n",
            "  inflating: /content/drive/My Drive/Colab Notebooks/db/brain_tumor_dataset/yes/Y183.jpg  \n",
            "  inflating: /content/drive/My Drive/Colab Notebooks/db/brain_tumor_dataset/yes/Y184.JPG  \n",
            "  inflating: /content/drive/My Drive/Colab Notebooks/db/brain_tumor_dataset/yes/Y185.jpg  \n",
            "  inflating: /content/drive/My Drive/Colab Notebooks/db/brain_tumor_dataset/yes/Y186.jpg  \n",
            "  inflating: /content/drive/My Drive/Colab Notebooks/db/brain_tumor_dataset/yes/Y187.jpg  \n",
            "  inflating: /content/drive/My Drive/Colab Notebooks/db/brain_tumor_dataset/yes/Y188.jpg  \n",
            "  inflating: /content/drive/My Drive/Colab Notebooks/db/brain_tumor_dataset/yes/Y19.JPG  \n",
            "  inflating: /content/drive/My Drive/Colab Notebooks/db/brain_tumor_dataset/yes/Y192.JPG  \n",
            "  inflating: /content/drive/My Drive/Colab Notebooks/db/brain_tumor_dataset/yes/Y193.JPG  \n",
            "  inflating: /content/drive/My Drive/Colab Notebooks/db/brain_tumor_dataset/yes/Y194.jpg  \n",
            "  inflating: /content/drive/My Drive/Colab Notebooks/db/brain_tumor_dataset/yes/Y195.JPG  \n",
            "  inflating: /content/drive/My Drive/Colab Notebooks/db/brain_tumor_dataset/yes/Y2.jpg  \n",
            "  inflating: /content/drive/My Drive/Colab Notebooks/db/brain_tumor_dataset/yes/Y20.jpg  \n",
            "  inflating: /content/drive/My Drive/Colab Notebooks/db/brain_tumor_dataset/yes/Y21.jpg  \n",
            "  inflating: /content/drive/My Drive/Colab Notebooks/db/brain_tumor_dataset/yes/Y22.jpg  \n",
            "  inflating: /content/drive/My Drive/Colab Notebooks/db/brain_tumor_dataset/yes/Y23.JPG  \n",
            "  inflating: /content/drive/My Drive/Colab Notebooks/db/brain_tumor_dataset/yes/Y24.jpg  \n",
            "  inflating: /content/drive/My Drive/Colab Notebooks/db/brain_tumor_dataset/yes/Y242.JPG  \n",
            "  inflating: /content/drive/My Drive/Colab Notebooks/db/brain_tumor_dataset/yes/Y243.JPG  \n",
            "  inflating: /content/drive/My Drive/Colab Notebooks/db/brain_tumor_dataset/yes/Y244.JPG  \n",
            "  inflating: /content/drive/My Drive/Colab Notebooks/db/brain_tumor_dataset/yes/Y245.jpg  \n",
            "  inflating: /content/drive/My Drive/Colab Notebooks/db/brain_tumor_dataset/yes/Y246.JPG  \n",
            "  inflating: /content/drive/My Drive/Colab Notebooks/db/brain_tumor_dataset/yes/Y247.JPG  \n",
            "  inflating: /content/drive/My Drive/Colab Notebooks/db/brain_tumor_dataset/yes/Y248.JPG  \n",
            "  inflating: /content/drive/My Drive/Colab Notebooks/db/brain_tumor_dataset/yes/Y249.JPG  \n",
            "  inflating: /content/drive/My Drive/Colab Notebooks/db/brain_tumor_dataset/yes/Y25.jpg  \n",
            "  inflating: /content/drive/My Drive/Colab Notebooks/db/brain_tumor_dataset/yes/Y250.jpg  \n",
            "  inflating: /content/drive/My Drive/Colab Notebooks/db/brain_tumor_dataset/yes/Y251.JPG  \n",
            "  inflating: /content/drive/My Drive/Colab Notebooks/db/brain_tumor_dataset/yes/Y252.jpg  \n",
            "  inflating: /content/drive/My Drive/Colab Notebooks/db/brain_tumor_dataset/yes/Y253.JPG  \n",
            "  inflating: /content/drive/My Drive/Colab Notebooks/db/brain_tumor_dataset/yes/Y254.jpg  \n",
            "  inflating: /content/drive/My Drive/Colab Notebooks/db/brain_tumor_dataset/yes/Y255.JPG  \n",
            "  inflating: /content/drive/My Drive/Colab Notebooks/db/brain_tumor_dataset/yes/Y256.JPG  \n",
            "  inflating: /content/drive/My Drive/Colab Notebooks/db/brain_tumor_dataset/yes/Y257.jpg  \n",
            "  inflating: /content/drive/My Drive/Colab Notebooks/db/brain_tumor_dataset/yes/Y258.JPG  \n",
            "  inflating: /content/drive/My Drive/Colab Notebooks/db/brain_tumor_dataset/yes/Y259.JPG  \n",
            "  inflating: /content/drive/My Drive/Colab Notebooks/db/brain_tumor_dataset/yes/Y26.jpg  \n",
            "  inflating: /content/drive/My Drive/Colab Notebooks/db/brain_tumor_dataset/yes/Y27.jpg  \n",
            "  inflating: /content/drive/My Drive/Colab Notebooks/db/brain_tumor_dataset/yes/Y28.jpg  \n",
            "  inflating: /content/drive/My Drive/Colab Notebooks/db/brain_tumor_dataset/yes/Y29.jpg  \n",
            "  inflating: /content/drive/My Drive/Colab Notebooks/db/brain_tumor_dataset/yes/Y3.jpg  \n",
            "  inflating: /content/drive/My Drive/Colab Notebooks/db/brain_tumor_dataset/yes/Y30.jpg  \n",
            "  inflating: /content/drive/My Drive/Colab Notebooks/db/brain_tumor_dataset/yes/Y31.jpg  \n",
            "  inflating: /content/drive/My Drive/Colab Notebooks/db/brain_tumor_dataset/yes/Y32.jpg  \n",
            "  inflating: /content/drive/My Drive/Colab Notebooks/db/brain_tumor_dataset/yes/Y33.jpg  \n",
            "  inflating: /content/drive/My Drive/Colab Notebooks/db/brain_tumor_dataset/yes/Y34.jpg  \n",
            "  inflating: /content/drive/My Drive/Colab Notebooks/db/brain_tumor_dataset/yes/Y35.jpg  \n",
            "  inflating: /content/drive/My Drive/Colab Notebooks/db/brain_tumor_dataset/yes/Y36.JPG  \n",
            "  inflating: /content/drive/My Drive/Colab Notebooks/db/brain_tumor_dataset/yes/Y37.jpg  \n",
            "  inflating: /content/drive/My Drive/Colab Notebooks/db/brain_tumor_dataset/yes/Y38.jpg  \n",
            "  inflating: /content/drive/My Drive/Colab Notebooks/db/brain_tumor_dataset/yes/Y39.jpg  \n",
            "  inflating: /content/drive/My Drive/Colab Notebooks/db/brain_tumor_dataset/yes/Y4.jpg  \n",
            "  inflating: /content/drive/My Drive/Colab Notebooks/db/brain_tumor_dataset/yes/Y40.JPG  \n",
            "  inflating: /content/drive/My Drive/Colab Notebooks/db/brain_tumor_dataset/yes/Y41.jpg  \n",
            "  inflating: /content/drive/My Drive/Colab Notebooks/db/brain_tumor_dataset/yes/Y42.jpg  \n",
            "  inflating: /content/drive/My Drive/Colab Notebooks/db/brain_tumor_dataset/yes/Y44.JPG  \n",
            "  inflating: /content/drive/My Drive/Colab Notebooks/db/brain_tumor_dataset/yes/Y45.JPG  \n",
            "  inflating: /content/drive/My Drive/Colab Notebooks/db/brain_tumor_dataset/yes/Y46.jpg  \n",
            "  inflating: /content/drive/My Drive/Colab Notebooks/db/brain_tumor_dataset/yes/Y47.JPG  \n",
            "  inflating: /content/drive/My Drive/Colab Notebooks/db/brain_tumor_dataset/yes/Y49.JPG  \n",
            "  inflating: /content/drive/My Drive/Colab Notebooks/db/brain_tumor_dataset/yes/Y50.JPG  \n",
            "  inflating: /content/drive/My Drive/Colab Notebooks/db/brain_tumor_dataset/yes/Y51.jpg  \n",
            "  inflating: /content/drive/My Drive/Colab Notebooks/db/brain_tumor_dataset/yes/Y52.jpg  \n",
            "  inflating: /content/drive/My Drive/Colab Notebooks/db/brain_tumor_dataset/yes/Y53.jpg  \n",
            "  inflating: /content/drive/My Drive/Colab Notebooks/db/brain_tumor_dataset/yes/Y54.jpg  \n",
            "  inflating: /content/drive/My Drive/Colab Notebooks/db/brain_tumor_dataset/yes/Y55.jpg  \n",
            "  inflating: /content/drive/My Drive/Colab Notebooks/db/brain_tumor_dataset/yes/Y56.jpg  \n",
            "  inflating: /content/drive/My Drive/Colab Notebooks/db/brain_tumor_dataset/yes/Y58.JPG  \n",
            "  inflating: /content/drive/My Drive/Colab Notebooks/db/brain_tumor_dataset/yes/Y59.JPG  \n",
            "  inflating: /content/drive/My Drive/Colab Notebooks/db/brain_tumor_dataset/yes/Y6.jpg  \n",
            "  inflating: /content/drive/My Drive/Colab Notebooks/db/brain_tumor_dataset/yes/Y60.jpg  \n",
            "  inflating: /content/drive/My Drive/Colab Notebooks/db/brain_tumor_dataset/yes/Y61.jpg  \n",
            "  inflating: /content/drive/My Drive/Colab Notebooks/db/brain_tumor_dataset/yes/Y62.jpg  \n",
            "  inflating: /content/drive/My Drive/Colab Notebooks/db/brain_tumor_dataset/yes/Y65.JPG  \n",
            "  inflating: /content/drive/My Drive/Colab Notebooks/db/brain_tumor_dataset/yes/Y66.JPG  \n",
            "  inflating: /content/drive/My Drive/Colab Notebooks/db/brain_tumor_dataset/yes/Y67.JPG  \n",
            "  inflating: /content/drive/My Drive/Colab Notebooks/db/brain_tumor_dataset/yes/Y69.jpg  \n",
            "  inflating: /content/drive/My Drive/Colab Notebooks/db/brain_tumor_dataset/yes/Y7.jpg  \n",
            "  inflating: /content/drive/My Drive/Colab Notebooks/db/brain_tumor_dataset/yes/Y70.jpg  \n",
            "  inflating: /content/drive/My Drive/Colab Notebooks/db/brain_tumor_dataset/yes/Y71.JPG  \n",
            "  inflating: /content/drive/My Drive/Colab Notebooks/db/brain_tumor_dataset/yes/Y73.jpg  \n",
            "  inflating: /content/drive/My Drive/Colab Notebooks/db/brain_tumor_dataset/yes/Y74.jpg  \n",
            "  inflating: /content/drive/My Drive/Colab Notebooks/db/brain_tumor_dataset/yes/Y75.JPG  \n",
            "  inflating: /content/drive/My Drive/Colab Notebooks/db/brain_tumor_dataset/yes/Y76.jpg  \n",
            "  inflating: /content/drive/My Drive/Colab Notebooks/db/brain_tumor_dataset/yes/Y77.jpg  \n",
            "  inflating: /content/drive/My Drive/Colab Notebooks/db/brain_tumor_dataset/yes/Y78.jpg  \n",
            "  inflating: /content/drive/My Drive/Colab Notebooks/db/brain_tumor_dataset/yes/Y79.jpg  \n",
            "  inflating: /content/drive/My Drive/Colab Notebooks/db/brain_tumor_dataset/yes/Y8.jpg  \n",
            "  inflating: /content/drive/My Drive/Colab Notebooks/db/brain_tumor_dataset/yes/Y81.jpg  \n",
            "  inflating: /content/drive/My Drive/Colab Notebooks/db/brain_tumor_dataset/yes/Y82.jpg  \n",
            "  inflating: /content/drive/My Drive/Colab Notebooks/db/brain_tumor_dataset/yes/Y85.JPG  \n",
            "  inflating: /content/drive/My Drive/Colab Notebooks/db/brain_tumor_dataset/yes/Y86.JPG  \n",
            "  inflating: /content/drive/My Drive/Colab Notebooks/db/brain_tumor_dataset/yes/Y89.JPG  \n",
            "  inflating: /content/drive/My Drive/Colab Notebooks/db/brain_tumor_dataset/yes/Y9.jpg  \n",
            "  inflating: /content/drive/My Drive/Colab Notebooks/db/brain_tumor_dataset/yes/Y90.jpg  \n",
            "  inflating: /content/drive/My Drive/Colab Notebooks/db/brain_tumor_dataset/yes/Y91.jpg  \n",
            "  inflating: /content/drive/My Drive/Colab Notebooks/db/brain_tumor_dataset/yes/Y92.jpg  \n",
            "  inflating: /content/drive/My Drive/Colab Notebooks/db/brain_tumor_dataset/yes/Y92.png  \n",
            "  inflating: /content/drive/My Drive/Colab Notebooks/db/brain_tumor_dataset/yes/Y95.jpg  \n",
            "  inflating: /content/drive/My Drive/Colab Notebooks/db/brain_tumor_dataset/yes/Y96.jpg  \n",
            "  inflating: /content/drive/My Drive/Colab Notebooks/db/brain_tumor_dataset/yes/Y97.JPG  \n",
            "  inflating: /content/drive/My Drive/Colab Notebooks/db/brain_tumor_dataset/yes/Y98.JPG  \n",
            "  inflating: /content/drive/My Drive/Colab Notebooks/db/brain_tumor_dataset/yes/Y99.JPG  \n",
            "  inflating: /content/drive/My Drive/Colab Notebooks/db/no/1 no.jpeg  \n",
            "  inflating: /content/drive/My Drive/Colab Notebooks/db/no/10 no.jpg  \n",
            "  inflating: /content/drive/My Drive/Colab Notebooks/db/no/11 no.jpg  \n",
            "  inflating: /content/drive/My Drive/Colab Notebooks/db/no/12 no.jpg  \n",
            "  inflating: /content/drive/My Drive/Colab Notebooks/db/no/13 no.jpg  \n",
            "  inflating: /content/drive/My Drive/Colab Notebooks/db/no/14 no.jpg  \n",
            "  inflating: /content/drive/My Drive/Colab Notebooks/db/no/15 no.jpg  \n",
            "  inflating: /content/drive/My Drive/Colab Notebooks/db/no/17 no.jpg  \n",
            "  inflating: /content/drive/My Drive/Colab Notebooks/db/no/18 no.jpg  \n",
            "  inflating: /content/drive/My Drive/Colab Notebooks/db/no/19 no.jpg  \n",
            "  inflating: /content/drive/My Drive/Colab Notebooks/db/no/2 no.jpeg  \n",
            "  inflating: /content/drive/My Drive/Colab Notebooks/db/no/20 no.jpg  \n",
            "  inflating: /content/drive/My Drive/Colab Notebooks/db/no/21 no.jpg  \n",
            "  inflating: /content/drive/My Drive/Colab Notebooks/db/no/22 no.jpg  \n",
            "  inflating: /content/drive/My Drive/Colab Notebooks/db/no/23 no.jpg  \n",
            "  inflating: /content/drive/My Drive/Colab Notebooks/db/no/24 no.jpg  \n",
            "  inflating: /content/drive/My Drive/Colab Notebooks/db/no/25 no.jpg  \n",
            "  inflating: /content/drive/My Drive/Colab Notebooks/db/no/26 no.jpg  \n",
            "  inflating: /content/drive/My Drive/Colab Notebooks/db/no/27 no.jpg  \n",
            "  inflating: /content/drive/My Drive/Colab Notebooks/db/no/28 no.jpg  \n",
            "  inflating: /content/drive/My Drive/Colab Notebooks/db/no/29 no.jpg  \n",
            "  inflating: /content/drive/My Drive/Colab Notebooks/db/no/3 no.jpg  \n",
            "  inflating: /content/drive/My Drive/Colab Notebooks/db/no/30 no.jpg  \n",
            "  inflating: /content/drive/My Drive/Colab Notebooks/db/no/31 no.jpg  \n",
            "  inflating: /content/drive/My Drive/Colab Notebooks/db/no/32 no.jpg  \n",
            "  inflating: /content/drive/My Drive/Colab Notebooks/db/no/33 no.jpg  \n",
            "  inflating: /content/drive/My Drive/Colab Notebooks/db/no/34 no.jpg  \n",
            "  inflating: /content/drive/My Drive/Colab Notebooks/db/no/35 no.jpg  \n",
            "  inflating: /content/drive/My Drive/Colab Notebooks/db/no/36 no.jpg  \n",
            "  inflating: /content/drive/My Drive/Colab Notebooks/db/no/37 no.jpg  \n",
            "  inflating: /content/drive/My Drive/Colab Notebooks/db/no/38 no.jpg  \n",
            "  inflating: /content/drive/My Drive/Colab Notebooks/db/no/39 no.jpg  \n",
            "  inflating: /content/drive/My Drive/Colab Notebooks/db/no/4 no.jpg  \n",
            "  inflating: /content/drive/My Drive/Colab Notebooks/db/no/40 no.jpg  \n",
            "  inflating: /content/drive/My Drive/Colab Notebooks/db/no/41 no.jpg  \n",
            "  inflating: /content/drive/My Drive/Colab Notebooks/db/no/42 no.jpg  \n",
            "  inflating: /content/drive/My Drive/Colab Notebooks/db/no/43 no.jpg  \n",
            "  inflating: /content/drive/My Drive/Colab Notebooks/db/no/44no.jpg  \n",
            "  inflating: /content/drive/My Drive/Colab Notebooks/db/no/45 no.jpg  \n",
            "  inflating: /content/drive/My Drive/Colab Notebooks/db/no/46 no.jpg  \n",
            "  inflating: /content/drive/My Drive/Colab Notebooks/db/no/47 no.jpg  \n",
            "  inflating: /content/drive/My Drive/Colab Notebooks/db/no/48 no.jpeg  \n",
            "  inflating: /content/drive/My Drive/Colab Notebooks/db/no/49 no.jpg  \n",
            "  inflating: /content/drive/My Drive/Colab Notebooks/db/no/5 no.jpg  \n",
            "  inflating: /content/drive/My Drive/Colab Notebooks/db/no/50 no.jpg  \n",
            "  inflating: /content/drive/My Drive/Colab Notebooks/db/no/6 no.jpg  \n",
            "  inflating: /content/drive/My Drive/Colab Notebooks/db/no/7 no.jpg  \n",
            "  inflating: /content/drive/My Drive/Colab Notebooks/db/no/8 no.jpg  \n",
            "  inflating: /content/drive/My Drive/Colab Notebooks/db/no/9 no.jpg  \n",
            "  inflating: /content/drive/My Drive/Colab Notebooks/db/no/N1.JPG  \n",
            "  inflating: /content/drive/My Drive/Colab Notebooks/db/no/N11.jpg  \n",
            "  inflating: /content/drive/My Drive/Colab Notebooks/db/no/N15.jpg  \n",
            "  inflating: /content/drive/My Drive/Colab Notebooks/db/no/N16.jpg  \n",
            "  inflating: /content/drive/My Drive/Colab Notebooks/db/no/N17.jpg  \n",
            "  inflating: /content/drive/My Drive/Colab Notebooks/db/no/N19.JPG  \n",
            "  inflating: /content/drive/My Drive/Colab Notebooks/db/no/N2.JPG  \n",
            "  inflating: /content/drive/My Drive/Colab Notebooks/db/no/N20.JPG  \n",
            "  inflating: /content/drive/My Drive/Colab Notebooks/db/no/N21.jpg  \n",
            "  inflating: /content/drive/My Drive/Colab Notebooks/db/no/N22.JPG  \n",
            "  inflating: /content/drive/My Drive/Colab Notebooks/db/no/N26.JPG  \n",
            "  inflating: /content/drive/My Drive/Colab Notebooks/db/no/N3.jpg  \n",
            "  inflating: /content/drive/My Drive/Colab Notebooks/db/no/N5.jpg  \n",
            "  inflating: /content/drive/My Drive/Colab Notebooks/db/no/N6.jpg  \n",
            "  inflating: /content/drive/My Drive/Colab Notebooks/db/no/No11.jpg  \n",
            "  inflating: /content/drive/My Drive/Colab Notebooks/db/no/No12.jpg  \n",
            "  inflating: /content/drive/My Drive/Colab Notebooks/db/no/No13.jpg  \n",
            "  inflating: /content/drive/My Drive/Colab Notebooks/db/no/No14.jpg  \n",
            "  inflating: /content/drive/My Drive/Colab Notebooks/db/no/No15.jpg  \n",
            "  inflating: /content/drive/My Drive/Colab Notebooks/db/no/No16.jpg  \n",
            "  inflating: /content/drive/My Drive/Colab Notebooks/db/no/No17.jpg  \n",
            "  inflating: /content/drive/My Drive/Colab Notebooks/db/no/No18.jpg  \n",
            "  inflating: /content/drive/My Drive/Colab Notebooks/db/no/No19.jpg  \n",
            "  inflating: /content/drive/My Drive/Colab Notebooks/db/no/No20.jpg  \n",
            "  inflating: /content/drive/My Drive/Colab Notebooks/db/no/No21.jpg  \n",
            "  inflating: /content/drive/My Drive/Colab Notebooks/db/no/No22.jpg  \n",
            "  inflating: /content/drive/My Drive/Colab Notebooks/db/no/no 1.jpg  \n",
            "  inflating: /content/drive/My Drive/Colab Notebooks/db/no/no 10.jpg  \n",
            "  inflating: /content/drive/My Drive/Colab Notebooks/db/no/no 100.jpg  \n",
            "  inflating: /content/drive/My Drive/Colab Notebooks/db/no/no 2.jpg  \n",
            "  inflating: /content/drive/My Drive/Colab Notebooks/db/no/no 3.jpg  \n",
            "  inflating: /content/drive/My Drive/Colab Notebooks/db/no/no 4.jpg  \n",
            "  inflating: /content/drive/My Drive/Colab Notebooks/db/no/no 5.jpeg  \n",
            "  inflating: /content/drive/My Drive/Colab Notebooks/db/no/no 6.jpg  \n",
            "  inflating: /content/drive/My Drive/Colab Notebooks/db/no/no 7.jpeg  \n",
            "  inflating: /content/drive/My Drive/Colab Notebooks/db/no/no 8.jpg  \n",
            "  inflating: /content/drive/My Drive/Colab Notebooks/db/no/no 89.jpg  \n",
            "  inflating: /content/drive/My Drive/Colab Notebooks/db/no/no 9.png  \n",
            "  inflating: /content/drive/My Drive/Colab Notebooks/db/no/no 90.jpg  \n",
            "  inflating: /content/drive/My Drive/Colab Notebooks/db/no/no 91.jpeg  \n",
            "  inflating: /content/drive/My Drive/Colab Notebooks/db/no/no 92.jpg  \n",
            "  inflating: /content/drive/My Drive/Colab Notebooks/db/no/no 923.jpg  \n",
            "  inflating: /content/drive/My Drive/Colab Notebooks/db/no/no 94.jpg  \n",
            "  inflating: /content/drive/My Drive/Colab Notebooks/db/no/no 95.jpg  \n",
            "  inflating: /content/drive/My Drive/Colab Notebooks/db/no/no 96.jpg  \n",
            "  inflating: /content/drive/My Drive/Colab Notebooks/db/no/no 97.jpg  \n",
            "  inflating: /content/drive/My Drive/Colab Notebooks/db/no/no 98.jpg  \n",
            "  inflating: /content/drive/My Drive/Colab Notebooks/db/no/no 99.jpg  \n",
            "  inflating: /content/drive/My Drive/Colab Notebooks/db/no/no.jpg  \n",
            "  inflating: /content/drive/My Drive/Colab Notebooks/db/yes/Y1.jpg  \n",
            "  inflating: /content/drive/My Drive/Colab Notebooks/db/yes/Y10.jpg  \n",
            "  inflating: /content/drive/My Drive/Colab Notebooks/db/yes/Y100.JPG  \n",
            "  inflating: /content/drive/My Drive/Colab Notebooks/db/yes/Y101.jpg  \n",
            "  inflating: /content/drive/My Drive/Colab Notebooks/db/yes/Y102.jpg  \n",
            "  inflating: /content/drive/My Drive/Colab Notebooks/db/yes/Y103.jpg  \n",
            "  inflating: /content/drive/My Drive/Colab Notebooks/db/yes/Y104.jpg  \n",
            "  inflating: /content/drive/My Drive/Colab Notebooks/db/yes/Y105.jpg  \n",
            "  inflating: /content/drive/My Drive/Colab Notebooks/db/yes/Y106.jpg  \n",
            "  inflating: /content/drive/My Drive/Colab Notebooks/db/yes/Y107.jpg  \n",
            "  inflating: /content/drive/My Drive/Colab Notebooks/db/yes/Y108.jpg  \n",
            "  inflating: /content/drive/My Drive/Colab Notebooks/db/yes/Y109.JPG  \n",
            "  inflating: /content/drive/My Drive/Colab Notebooks/db/yes/Y11.jpg  \n",
            "  inflating: /content/drive/My Drive/Colab Notebooks/db/yes/Y111.JPG  \n",
            "  inflating: /content/drive/My Drive/Colab Notebooks/db/yes/Y112.JPG  \n",
            "  inflating: /content/drive/My Drive/Colab Notebooks/db/yes/Y113.JPG  \n",
            "  inflating: /content/drive/My Drive/Colab Notebooks/db/yes/Y114.JPG  \n",
            "  inflating: /content/drive/My Drive/Colab Notebooks/db/yes/Y115.JPG  \n",
            "  inflating: /content/drive/My Drive/Colab Notebooks/db/yes/Y116.JPG  \n",
            "  inflating: /content/drive/My Drive/Colab Notebooks/db/yes/Y117.JPG  \n",
            "  inflating: /content/drive/My Drive/Colab Notebooks/db/yes/Y12.jpg  \n",
            "  inflating: /content/drive/My Drive/Colab Notebooks/db/yes/Y120.JPG  \n",
            "  inflating: /content/drive/My Drive/Colab Notebooks/db/yes/Y13.jpg  \n",
            "  inflating: /content/drive/My Drive/Colab Notebooks/db/yes/Y14.jpg  \n",
            "  inflating: /content/drive/My Drive/Colab Notebooks/db/yes/Y146.JPG  \n",
            "  inflating: /content/drive/My Drive/Colab Notebooks/db/yes/Y147.JPG  \n",
            "  inflating: /content/drive/My Drive/Colab Notebooks/db/yes/Y148.JPG  \n",
            "  inflating: /content/drive/My Drive/Colab Notebooks/db/yes/Y15.jpg  \n",
            "  inflating: /content/drive/My Drive/Colab Notebooks/db/yes/Y153.jpg  \n",
            "  inflating: /content/drive/My Drive/Colab Notebooks/db/yes/Y154.jpg  \n",
            "  inflating: /content/drive/My Drive/Colab Notebooks/db/yes/Y155.JPG  \n",
            "  inflating: /content/drive/My Drive/Colab Notebooks/db/yes/Y156.JPG  \n",
            "  inflating: /content/drive/My Drive/Colab Notebooks/db/yes/Y157.JPG  \n",
            "  inflating: /content/drive/My Drive/Colab Notebooks/db/yes/Y158.JPG  \n",
            "  inflating: /content/drive/My Drive/Colab Notebooks/db/yes/Y159.JPG  \n",
            "  inflating: /content/drive/My Drive/Colab Notebooks/db/yes/Y16.JPG  \n",
            "  inflating: /content/drive/My Drive/Colab Notebooks/db/yes/Y160.JPG  \n",
            "  inflating: /content/drive/My Drive/Colab Notebooks/db/yes/Y161.JPG  \n",
            "  inflating: /content/drive/My Drive/Colab Notebooks/db/yes/Y162.jpg  \n",
            "  inflating: /content/drive/My Drive/Colab Notebooks/db/yes/Y163.JPG  \n",
            "  inflating: /content/drive/My Drive/Colab Notebooks/db/yes/Y164.JPG  \n",
            "  inflating: /content/drive/My Drive/Colab Notebooks/db/yes/Y165.JPG  \n",
            "  inflating: /content/drive/My Drive/Colab Notebooks/db/yes/Y166.JPG  \n",
            "  inflating: /content/drive/My Drive/Colab Notebooks/db/yes/Y167.JPG  \n",
            "  inflating: /content/drive/My Drive/Colab Notebooks/db/yes/Y168.jpg  \n",
            "  inflating: /content/drive/My Drive/Colab Notebooks/db/yes/Y169.jpg  \n",
            "  inflating: /content/drive/My Drive/Colab Notebooks/db/yes/Y17.jpg  \n",
            "  inflating: /content/drive/My Drive/Colab Notebooks/db/yes/Y170.JPG  \n",
            "  inflating: /content/drive/My Drive/Colab Notebooks/db/yes/Y18.JPG  \n",
            "  inflating: /content/drive/My Drive/Colab Notebooks/db/yes/Y180.jpg  \n",
            "  inflating: /content/drive/My Drive/Colab Notebooks/db/yes/Y181.jpg  \n",
            "  inflating: /content/drive/My Drive/Colab Notebooks/db/yes/Y182.JPG  \n",
            "  inflating: /content/drive/My Drive/Colab Notebooks/db/yes/Y183.jpg  \n",
            "  inflating: /content/drive/My Drive/Colab Notebooks/db/yes/Y184.JPG  \n",
            "  inflating: /content/drive/My Drive/Colab Notebooks/db/yes/Y185.jpg  \n",
            "  inflating: /content/drive/My Drive/Colab Notebooks/db/yes/Y186.jpg  \n",
            "  inflating: /content/drive/My Drive/Colab Notebooks/db/yes/Y187.jpg  \n",
            "  inflating: /content/drive/My Drive/Colab Notebooks/db/yes/Y188.jpg  \n",
            "  inflating: /content/drive/My Drive/Colab Notebooks/db/yes/Y19.JPG  \n",
            "  inflating: /content/drive/My Drive/Colab Notebooks/db/yes/Y192.JPG  \n",
            "  inflating: /content/drive/My Drive/Colab Notebooks/db/yes/Y193.JPG  \n",
            "  inflating: /content/drive/My Drive/Colab Notebooks/db/yes/Y194.jpg  \n",
            "  inflating: /content/drive/My Drive/Colab Notebooks/db/yes/Y195.JPG  \n",
            "  inflating: /content/drive/My Drive/Colab Notebooks/db/yes/Y2.jpg  \n",
            "  inflating: /content/drive/My Drive/Colab Notebooks/db/yes/Y20.jpg  \n",
            "  inflating: /content/drive/My Drive/Colab Notebooks/db/yes/Y21.jpg  \n",
            "  inflating: /content/drive/My Drive/Colab Notebooks/db/yes/Y22.jpg  \n",
            "  inflating: /content/drive/My Drive/Colab Notebooks/db/yes/Y23.JPG  \n",
            "  inflating: /content/drive/My Drive/Colab Notebooks/db/yes/Y24.jpg  \n",
            "  inflating: /content/drive/My Drive/Colab Notebooks/db/yes/Y242.JPG  \n",
            "  inflating: /content/drive/My Drive/Colab Notebooks/db/yes/Y243.JPG  \n",
            "  inflating: /content/drive/My Drive/Colab Notebooks/db/yes/Y244.JPG  \n",
            "  inflating: /content/drive/My Drive/Colab Notebooks/db/yes/Y245.jpg  \n",
            "  inflating: /content/drive/My Drive/Colab Notebooks/db/yes/Y246.JPG  \n",
            "  inflating: /content/drive/My Drive/Colab Notebooks/db/yes/Y247.JPG  \n",
            "  inflating: /content/drive/My Drive/Colab Notebooks/db/yes/Y248.JPG  \n",
            "  inflating: /content/drive/My Drive/Colab Notebooks/db/yes/Y249.JPG  \n",
            "  inflating: /content/drive/My Drive/Colab Notebooks/db/yes/Y25.jpg  \n",
            "  inflating: /content/drive/My Drive/Colab Notebooks/db/yes/Y250.jpg  \n",
            "  inflating: /content/drive/My Drive/Colab Notebooks/db/yes/Y251.JPG  \n",
            "  inflating: /content/drive/My Drive/Colab Notebooks/db/yes/Y252.jpg  \n",
            "  inflating: /content/drive/My Drive/Colab Notebooks/db/yes/Y253.JPG  \n",
            "  inflating: /content/drive/My Drive/Colab Notebooks/db/yes/Y254.jpg  \n",
            "  inflating: /content/drive/My Drive/Colab Notebooks/db/yes/Y255.JPG  \n",
            "  inflating: /content/drive/My Drive/Colab Notebooks/db/yes/Y256.JPG  \n",
            "  inflating: /content/drive/My Drive/Colab Notebooks/db/yes/Y257.jpg  \n",
            "  inflating: /content/drive/My Drive/Colab Notebooks/db/yes/Y258.JPG  \n",
            "  inflating: /content/drive/My Drive/Colab Notebooks/db/yes/Y259.JPG  \n",
            "  inflating: /content/drive/My Drive/Colab Notebooks/db/yes/Y26.jpg  \n",
            "  inflating: /content/drive/My Drive/Colab Notebooks/db/yes/Y27.jpg  \n",
            "  inflating: /content/drive/My Drive/Colab Notebooks/db/yes/Y28.jpg  \n",
            "  inflating: /content/drive/My Drive/Colab Notebooks/db/yes/Y29.jpg  \n",
            "  inflating: /content/drive/My Drive/Colab Notebooks/db/yes/Y3.jpg  \n",
            "  inflating: /content/drive/My Drive/Colab Notebooks/db/yes/Y30.jpg  \n",
            "  inflating: /content/drive/My Drive/Colab Notebooks/db/yes/Y31.jpg  \n",
            "  inflating: /content/drive/My Drive/Colab Notebooks/db/yes/Y32.jpg  \n",
            "  inflating: /content/drive/My Drive/Colab Notebooks/db/yes/Y33.jpg  \n",
            "  inflating: /content/drive/My Drive/Colab Notebooks/db/yes/Y34.jpg  \n",
            "  inflating: /content/drive/My Drive/Colab Notebooks/db/yes/Y35.jpg  \n",
            "  inflating: /content/drive/My Drive/Colab Notebooks/db/yes/Y36.JPG  \n",
            "  inflating: /content/drive/My Drive/Colab Notebooks/db/yes/Y37.jpg  \n",
            "  inflating: /content/drive/My Drive/Colab Notebooks/db/yes/Y38.jpg  \n",
            "  inflating: /content/drive/My Drive/Colab Notebooks/db/yes/Y39.jpg  \n",
            "  inflating: /content/drive/My Drive/Colab Notebooks/db/yes/Y4.jpg  \n",
            "  inflating: /content/drive/My Drive/Colab Notebooks/db/yes/Y40.JPG  \n",
            "  inflating: /content/drive/My Drive/Colab Notebooks/db/yes/Y41.jpg  \n",
            "  inflating: /content/drive/My Drive/Colab Notebooks/db/yes/Y42.jpg  \n",
            "  inflating: /content/drive/My Drive/Colab Notebooks/db/yes/Y44.JPG  \n",
            "  inflating: /content/drive/My Drive/Colab Notebooks/db/yes/Y45.JPG  \n",
            "  inflating: /content/drive/My Drive/Colab Notebooks/db/yes/Y46.jpg  \n",
            "  inflating: /content/drive/My Drive/Colab Notebooks/db/yes/Y47.JPG  \n",
            "  inflating: /content/drive/My Drive/Colab Notebooks/db/yes/Y49.JPG  \n",
            "  inflating: /content/drive/My Drive/Colab Notebooks/db/yes/Y50.JPG  \n",
            "  inflating: /content/drive/My Drive/Colab Notebooks/db/yes/Y51.jpg  \n",
            "  inflating: /content/drive/My Drive/Colab Notebooks/db/yes/Y52.jpg  \n",
            "  inflating: /content/drive/My Drive/Colab Notebooks/db/yes/Y53.jpg  \n",
            "  inflating: /content/drive/My Drive/Colab Notebooks/db/yes/Y54.jpg  \n",
            "  inflating: /content/drive/My Drive/Colab Notebooks/db/yes/Y55.jpg  \n",
            "  inflating: /content/drive/My Drive/Colab Notebooks/db/yes/Y56.jpg  \n",
            "  inflating: /content/drive/My Drive/Colab Notebooks/db/yes/Y58.JPG  \n",
            "  inflating: /content/drive/My Drive/Colab Notebooks/db/yes/Y59.JPG  \n",
            "  inflating: /content/drive/My Drive/Colab Notebooks/db/yes/Y6.jpg  \n",
            "  inflating: /content/drive/My Drive/Colab Notebooks/db/yes/Y60.jpg  \n",
            "  inflating: /content/drive/My Drive/Colab Notebooks/db/yes/Y61.jpg  \n",
            "  inflating: /content/drive/My Drive/Colab Notebooks/db/yes/Y62.jpg  \n",
            "  inflating: /content/drive/My Drive/Colab Notebooks/db/yes/Y65.JPG  \n",
            "  inflating: /content/drive/My Drive/Colab Notebooks/db/yes/Y66.JPG  \n",
            "  inflating: /content/drive/My Drive/Colab Notebooks/db/yes/Y67.JPG  \n",
            "  inflating: /content/drive/My Drive/Colab Notebooks/db/yes/Y69.jpg  \n",
            "  inflating: /content/drive/My Drive/Colab Notebooks/db/yes/Y7.jpg  \n",
            "  inflating: /content/drive/My Drive/Colab Notebooks/db/yes/Y70.jpg  \n",
            "  inflating: /content/drive/My Drive/Colab Notebooks/db/yes/Y71.JPG  \n",
            "  inflating: /content/drive/My Drive/Colab Notebooks/db/yes/Y73.jpg  \n",
            "  inflating: /content/drive/My Drive/Colab Notebooks/db/yes/Y74.jpg  \n",
            "  inflating: /content/drive/My Drive/Colab Notebooks/db/yes/Y75.JPG  \n",
            "  inflating: /content/drive/My Drive/Colab Notebooks/db/yes/Y76.jpg  \n",
            "  inflating: /content/drive/My Drive/Colab Notebooks/db/yes/Y77.jpg  \n",
            "  inflating: /content/drive/My Drive/Colab Notebooks/db/yes/Y78.jpg  \n",
            "  inflating: /content/drive/My Drive/Colab Notebooks/db/yes/Y79.jpg  \n",
            "  inflating: /content/drive/My Drive/Colab Notebooks/db/yes/Y8.jpg  \n",
            "  inflating: /content/drive/My Drive/Colab Notebooks/db/yes/Y81.jpg  \n",
            "  inflating: /content/drive/My Drive/Colab Notebooks/db/yes/Y82.jpg  \n",
            "  inflating: /content/drive/My Drive/Colab Notebooks/db/yes/Y85.JPG  \n",
            "  inflating: /content/drive/My Drive/Colab Notebooks/db/yes/Y86.JPG  \n",
            "  inflating: /content/drive/My Drive/Colab Notebooks/db/yes/Y89.JPG  \n",
            "  inflating: /content/drive/My Drive/Colab Notebooks/db/yes/Y9.jpg  \n",
            "  inflating: /content/drive/My Drive/Colab Notebooks/db/yes/Y90.jpg  \n",
            "  inflating: /content/drive/My Drive/Colab Notebooks/db/yes/Y91.jpg  \n",
            "  inflating: /content/drive/My Drive/Colab Notebooks/db/yes/Y92.jpg  \n",
            "  inflating: /content/drive/My Drive/Colab Notebooks/db/yes/Y92.png  \n",
            "  inflating: /content/drive/My Drive/Colab Notebooks/db/yes/Y95.jpg  \n",
            "  inflating: /content/drive/My Drive/Colab Notebooks/db/yes/Y96.jpg  \n",
            "  inflating: /content/drive/My Drive/Colab Notebooks/db/yes/Y97.JPG  \n",
            "  inflating: /content/drive/My Drive/Colab Notebooks/db/yes/Y98.JPG  \n",
            "  inflating: /content/drive/My Drive/Colab Notebooks/db/yes/Y99.JPG  \n"
          ]
        }
      ]
    },
    {
      "cell_type": "code",
      "execution_count": null,
      "metadata": {
        "id": "v2fbt1jMkF7N"
      },
      "outputs": [],
      "source": [
        "import tensorflow as tf\n",
        "from tensorflow.keras import datasets, layers, models\n",
        "from sklearn.model_selection import train_test_split\n",
        "from keras.utils import to_categorical\n",
        "import matplotlib.pyplot as plt\n",
        "import cv2\n",
        "import glob\n",
        "import os\n",
        "import numpy as np\n",
        "import pandas as pd"
      ]
    },
    {
      "cell_type": "code",
      "source": [
        "Dataset = '/content/drive/My Drive/Colab Notebooks/db/brain_tumor_dataset/yes'\n",
        "Brain_Tumor = []\n",
        "img_size = 28\n",
        "for img in os.listdir(Dataset) :\n",
        "  img = cv2.imread(os.path.join(Dataset,img))\n",
        "  #img = cv2.cvtColor(img,cv2.COLOR_BGR2GRAY)\n",
        "  img_resize= cv2.resize(img,(img_size,img_size))\n",
        "  img_resize = cv2.bitwise_not(img_resize)\n",
        "  Brain_Tumor.append(img_resize)"
      ],
      "metadata": {
        "id": "PRQh9NZ4VZqU"
      },
      "execution_count": null,
      "outputs": []
    },
    {
      "cell_type": "code",
      "source": [
        "Brain_Tumor = np.array(Brain_Tumor)\n",
        "print(Brain_Tumor.shape)"
      ],
      "metadata": {
        "colab": {
          "base_uri": "https://localhost:8080/"
        },
        "id": "qKzTQCSi9bk0",
        "outputId": "f4c5efc7-fc90-4572-dc92-50db5deedd60"
      },
      "execution_count": null,
      "outputs": [
        {
          "output_type": "stream",
          "name": "stdout",
          "text": [
            "(155, 28, 28, 3)\n"
          ]
        }
      ]
    },
    {
      "cell_type": "code",
      "source": [
        "Dataset = '/content/drive/My Drive/Colab Notebooks/db/brain_tumor_dataset/no'\n",
        "No_Brain_Tumor = []\n",
        "img_size = 28\n",
        "for img in os.listdir(Dataset) :\n",
        "  img = cv2.imread(os.path.join(Dataset,img))\n",
        "  #img= cv2.cvtColor(img,cv2.COLOR_BGR2GRAY)\n",
        "  img_resize= cv2.resize(img,(img_size,img_size))\n",
        "  img_resize = cv2.bitwise_not(img_resize)\n",
        "  No_Brain_Tumor.append(img_resize)"
      ],
      "metadata": {
        "id": "PZ3LPcUa9u80"
      },
      "execution_count": null,
      "outputs": []
    },
    {
      "cell_type": "code",
      "source": [
        "No_Brain_Tumor = np.array(No_Brain_Tumor)\n",
        "print(No_Brain_Tumor.shape)"
      ],
      "metadata": {
        "colab": {
          "base_uri": "https://localhost:8080/"
        },
        "id": "AdjtMJaB-IR4",
        "outputId": "fa6d4063-7a89-4439-e01d-ec0972420133"
      },
      "execution_count": null,
      "outputs": [
        {
          "output_type": "stream",
          "name": "stdout",
          "text": [
            "(98, 28, 28, 3)\n"
          ]
        }
      ]
    },
    {
      "cell_type": "code",
      "source": [
        "images = np.concatenate([Brain_Tumor, No_Brain_Tumor])\n",
        "print(len(images))\n",
        "Images = np.array(images)\n",
        "#Images = Images.reshape(list(Images.shape) + [1])\n",
        "print(Images.shape)"
      ],
      "metadata": {
        "colab": {
          "base_uri": "https://localhost:8080/"
        },
        "id": "3ydbo9U4OzDu",
        "outputId": "f0e24214-c785-4dcb-e3f5-57ee2251530a"
      },
      "execution_count": null,
      "outputs": [
        {
          "output_type": "stream",
          "name": "stdout",
          "text": [
            "253\n",
            "(253, 28, 28, 3)\n"
          ]
        }
      ]
    },
    {
      "cell_type": "code",
      "source": [
        "labels_Brain_Tumor = np.repeat(0,155)\n",
        "print(len(labels_Brain_Tumor))\n",
        "print(labels_Brain_Tumor)"
      ],
      "metadata": {
        "colab": {
          "base_uri": "https://localhost:8080/"
        },
        "id": "5QJsNSmACA4D",
        "outputId": "477d82dc-1db1-44d3-acdf-3a1243645edb"
      },
      "execution_count": null,
      "outputs": [
        {
          "output_type": "stream",
          "name": "stdout",
          "text": [
            "155\n",
            "[0 0 0 0 0 0 0 0 0 0 0 0 0 0 0 0 0 0 0 0 0 0 0 0 0 0 0 0 0 0 0 0 0 0 0 0 0\n",
            " 0 0 0 0 0 0 0 0 0 0 0 0 0 0 0 0 0 0 0 0 0 0 0 0 0 0 0 0 0 0 0 0 0 0 0 0 0\n",
            " 0 0 0 0 0 0 0 0 0 0 0 0 0 0 0 0 0 0 0 0 0 0 0 0 0 0 0 0 0 0 0 0 0 0 0 0 0\n",
            " 0 0 0 0 0 0 0 0 0 0 0 0 0 0 0 0 0 0 0 0 0 0 0 0 0 0 0 0 0 0 0 0 0 0 0 0 0\n",
            " 0 0 0 0 0 0 0]\n"
          ]
        }
      ]
    },
    {
      "cell_type": "code",
      "source": [
        "labels_No_Brain_Tumor = np.repeat(1,98)\n",
        "print(len(labels_No_Brain_Tumor))\n",
        "print(labels_No_Brain_Tumor)"
      ],
      "metadata": {
        "colab": {
          "base_uri": "https://localhost:8080/"
        },
        "id": "at3QeABTCcCl",
        "outputId": "8eef458b-310d-4d61-a99c-aef56fde2953"
      },
      "execution_count": null,
      "outputs": [
        {
          "output_type": "stream",
          "name": "stdout",
          "text": [
            "98\n",
            "[1 1 1 1 1 1 1 1 1 1 1 1 1 1 1 1 1 1 1 1 1 1 1 1 1 1 1 1 1 1 1 1 1 1 1 1 1\n",
            " 1 1 1 1 1 1 1 1 1 1 1 1 1 1 1 1 1 1 1 1 1 1 1 1 1 1 1 1 1 1 1 1 1 1 1 1 1\n",
            " 1 1 1 1 1 1 1 1 1 1 1 1 1 1 1 1 1 1 1 1 1 1 1 1]\n"
          ]
        }
      ]
    },
    {
      "cell_type": "code",
      "source": [
        "class_names = ['Brain_Tumor', 'No_Brain_Tumor']\n",
        "labels = np.concatenate([labels_Brain_Tumor, labels_No_Brain_Tumor])\n",
        "print(len(labels))\n",
        "print(labels)\n",
        "Labels = np.array(labels)\n",
        "print(Labels.shape)"
      ],
      "metadata": {
        "colab": {
          "base_uri": "https://localhost:8080/"
        },
        "id": "gWeJ38ekCm4g",
        "outputId": "b5521d57-82b1-4e4d-9af0-6b895e52e0cf"
      },
      "execution_count": null,
      "outputs": [
        {
          "output_type": "stream",
          "name": "stdout",
          "text": [
            "253\n",
            "[0 0 0 0 0 0 0 0 0 0 0 0 0 0 0 0 0 0 0 0 0 0 0 0 0 0 0 0 0 0 0 0 0 0 0 0 0\n",
            " 0 0 0 0 0 0 0 0 0 0 0 0 0 0 0 0 0 0 0 0 0 0 0 0 0 0 0 0 0 0 0 0 0 0 0 0 0\n",
            " 0 0 0 0 0 0 0 0 0 0 0 0 0 0 0 0 0 0 0 0 0 0 0 0 0 0 0 0 0 0 0 0 0 0 0 0 0\n",
            " 0 0 0 0 0 0 0 0 0 0 0 0 0 0 0 0 0 0 0 0 0 0 0 0 0 0 0 0 0 0 0 0 0 0 0 0 0\n",
            " 0 0 0 0 0 0 0 1 1 1 1 1 1 1 1 1 1 1 1 1 1 1 1 1 1 1 1 1 1 1 1 1 1 1 1 1 1\n",
            " 1 1 1 1 1 1 1 1 1 1 1 1 1 1 1 1 1 1 1 1 1 1 1 1 1 1 1 1 1 1 1 1 1 1 1 1 1\n",
            " 1 1 1 1 1 1 1 1 1 1 1 1 1 1 1 1 1 1 1 1 1 1 1 1 1 1 1 1 1 1 1]\n",
            "(253,)\n"
          ]
        }
      ]
    },
    {
      "cell_type": "code",
      "source": [
        "plt.figure(figsize=(10,10))\n",
        "for i in range(25):\n",
        "  plt.subplot(5,5,i+1)\n",
        "  plt.xticks([])\n",
        "  plt.yticks([])\n",
        "  plt.grid(False)\n",
        "  plt.imshow(Images[i])\n",
        "  cmap= plt.cm.binary\n",
        "  plt.xlabel(class_names[Labels[i]])\n",
        "plt.show()"
      ],
      "metadata": {
        "colab": {
          "base_uri": "https://localhost:8080/",
          "height": 589
        },
        "id": "20bEJ6aRPY2t",
        "outputId": "253c4d30-1230-4234-b7ec-68b4b6f8646d"
      },
      "execution_count": null,
      "outputs": [
        {
          "output_type": "display_data",
          "data": {
            "text/plain": [
              "<Figure size 720x720 with 25 Axes>"
            ],
            "image/png": "[encoded data removed]"
          },
          "metadata": {}
        }
      ]
    },
    {
      "cell_type": "code",
      "source": [
        "train_Images, test_Images, train_Labels, test_Labels = train_test_split(Images, Labels, test_size = 0.2)\n",
        "print(train_Images.shape, train_Labels.shape)\n",
        "print(test_Images.shape, test_Labels.shape)\n",
        "\n",
        "train_Images = train_Images.astype('float32')\n",
        "test_Images = test_Images.astype('float32')\n",
        "train_Images = train_Images / 255.0\n",
        "test_Images = test_Images / 255.0\n",
        "\n",
        "#train_Labels_one_hot = to_categorical(train_Labels)\n",
        "#test_Labels_one_hot = to_categorical(test_Labels)\n",
        "\n",
        "#print('Original label:', train_Labels[0])\n",
        "#print('After conversion to one-hot:', train_Labels_one_hot[0])"
      ],
      "metadata": {
        "colab": {
          "base_uri": "https://localhost:8080/"
        },
        "id": "8tPgiUg4RXUz",
        "outputId": "b834f844-0df8-44f0-ef0d-7242473586ec"
      },
      "execution_count": null,
      "outputs": [
        {
          "output_type": "stream",
          "name": "stdout",
          "text": [
            "(202, 28, 28, 3) (202,)\n",
            "(51, 28, 28, 3) (51,)\n"
          ]
        }
      ]
    },
    {
      "cell_type": "code",
      "source": [
        "model = models.Sequential()\n",
        "model.add(layers.Conv2D(32, (3, 3), activation='relu', input_shape=(28, 28, 3)))\n",
        "model.add(layers.MaxPooling2D((2, 2)))\n",
        "model.add(layers.Conv2D(64, (3, 3), activation='relu'))\n",
        "model.add(layers.MaxPooling2D((2, 2)))\n",
        "model.add(layers.Conv2D(64, (3, 3), activation='relu'))"
      ],
      "metadata": {
        "id": "O4kJ6oxSUwtY"
      },
      "execution_count": null,
      "outputs": []
    },
    {
      "cell_type": "code",
      "source": [
        "model.add(layers.Flatten())\n",
        "model.add(layers.Dense(64, activation ='relu'))\n",
        "model.add(layers.Dense(10, activation = 'softmax'))"
      ],
      "metadata": {
        "id": "PTCWZ0JPdGLe"
      },
      "execution_count": null,
      "outputs": []
    },
    {
      "cell_type": "code",
      "source": [
        "model.compile(optimizer='adam',\n",
        "              loss=tf.keras.losses.SparseCategoricalCrossentropy(from_logits=True),\n",
        "              metrics=['accuracy'])"
      ],
      "metadata": {
        "id": "y79J2wEOmYxj"
      },
      "execution_count": null,
      "outputs": []
    },
    {
      "cell_type": "code",
      "source": [
        "history = model.fit(train_Images, train_Labels, epochs=50, \n",
        "                    validation_data=(test_Images, test_Labels))"
      ],
      "metadata": {
        "colab": {
          "base_uri": "https://localhost:8080/"
        },
        "id": "xz1zr9uXmdMw",
        "outputId": "8550d79b-79c6-484f-e0e3-317a37eca6a6"
      },
      "execution_count": null,
      "outputs": [
        {
          "output_type": "stream",
          "name": "stdout",
          "text": [
            "Epoch 1/50\n",
            "7/7 [==============================] - 1s 76ms/step - loss: 1.8948 - accuracy: 0.5198 - val_loss: 1.0339 - val_accuracy: 0.6078\n",
            "Epoch 2/50\n",
            "7/7 [==============================] - 0s 46ms/step - loss: 0.7724 - accuracy: 0.6040 - val_loss: 0.7102 - val_accuracy: 0.3922\n",
            "Epoch 3/50\n",
            "7/7 [==============================] - 0s 49ms/step - loss: 0.6911 - accuracy: 0.6040 - val_loss: 1.0397 - val_accuracy: 0.3922\n",
            "Epoch 4/50\n",
            "7/7 [==============================] - 0s 43ms/step - loss: 0.8142 - accuracy: 0.5198 - val_loss: 0.6120 - val_accuracy: 0.8235\n",
            "Epoch 5/50\n",
            "7/7 [==============================] - 0s 44ms/step - loss: 0.6088 - accuracy: 0.6535 - val_loss: 0.5808 - val_accuracy: 0.7059\n",
            "Epoch 6/50\n",
            "7/7 [==============================] - 0s 46ms/step - loss: 0.5802 - accuracy: 0.6881 - val_loss: 0.5498 - val_accuracy: 0.7843\n",
            "Epoch 7/50\n",
            "7/7 [==============================] - 0s 47ms/step - loss: 0.5731 - accuracy: 0.7327 - val_loss: 0.5621 - val_accuracy: 0.6471\n",
            "Epoch 8/50\n",
            "7/7 [==============================] - 0s 44ms/step - loss: 0.5401 - accuracy: 0.7426 - val_loss: 0.4802 - val_accuracy: 0.7843\n",
            "Epoch 9/50\n",
            "7/7 [==============================] - 0s 48ms/step - loss: 0.5177 - accuracy: 0.7426 - val_loss: 0.4817 - val_accuracy: 0.7843\n",
            "Epoch 10/50\n",
            "7/7 [==============================] - 0s 44ms/step - loss: 0.4770 - accuracy: 0.7871 - val_loss: 0.4357 - val_accuracy: 0.8235\n",
            "Epoch 11/50\n",
            "7/7 [==============================] - 0s 43ms/step - loss: 0.4277 - accuracy: 0.8317 - val_loss: 0.4068 - val_accuracy: 0.8039\n",
            "Epoch 12/50\n",
            "7/7 [==============================] - 0s 45ms/step - loss: 0.4058 - accuracy: 0.8168 - val_loss: 0.4053 - val_accuracy: 0.7647\n",
            "Epoch 13/50\n",
            "7/7 [==============================] - 0s 43ms/step - loss: 0.3788 - accuracy: 0.8515 - val_loss: 0.3978 - val_accuracy: 0.7843\n",
            "Epoch 14/50\n",
            "7/7 [==============================] - 0s 46ms/step - loss: 0.3777 - accuracy: 0.8416 - val_loss: 0.4080 - val_accuracy: 0.7843\n",
            "Epoch 15/50\n",
            "7/7 [==============================] - 0s 50ms/step - loss: 0.3552 - accuracy: 0.8267 - val_loss: 0.4021 - val_accuracy: 0.8235\n",
            "Epoch 16/50\n",
            "7/7 [==============================] - 0s 44ms/step - loss: 0.3181 - accuracy: 0.8564 - val_loss: 0.3970 - val_accuracy: 0.8235\n",
            "Epoch 17/50\n",
            "7/7 [==============================] - 0s 44ms/step - loss: 0.3082 - accuracy: 0.8713 - val_loss: 0.4137 - val_accuracy: 0.8431\n",
            "Epoch 18/50\n",
            "7/7 [==============================] - 0s 46ms/step - loss: 0.2815 - accuracy: 0.8911 - val_loss: 0.4162 - val_accuracy: 0.8431\n",
            "Epoch 19/50\n",
            "7/7 [==============================] - 0s 46ms/step - loss: 0.2560 - accuracy: 0.9158 - val_loss: 0.4369 - val_accuracy: 0.8235\n",
            "Epoch 20/50\n",
            "7/7 [==============================] - 0s 46ms/step - loss: 0.2737 - accuracy: 0.8960 - val_loss: 0.4184 - val_accuracy: 0.8235\n",
            "Epoch 21/50\n",
            "7/7 [==============================] - 0s 47ms/step - loss: 0.2321 - accuracy: 0.9059 - val_loss: 0.4293 - val_accuracy: 0.8431\n",
            "Epoch 22/50\n",
            "7/7 [==============================] - 0s 46ms/step - loss: 0.1903 - accuracy: 0.9406 - val_loss: 0.4432 - val_accuracy: 0.8235\n",
            "Epoch 23/50\n",
            "7/7 [==============================] - 0s 45ms/step - loss: 0.1772 - accuracy: 0.9554 - val_loss: 0.4538 - val_accuracy: 0.8431\n",
            "Epoch 24/50\n",
            "7/7 [==============================] - 0s 46ms/step - loss: 0.1652 - accuracy: 0.9653 - val_loss: 0.4909 - val_accuracy: 0.8039\n",
            "Epoch 25/50\n",
            "7/7 [==============================] - 0s 47ms/step - loss: 0.1496 - accuracy: 0.9554 - val_loss: 0.4757 - val_accuracy: 0.8235\n",
            "Epoch 26/50\n",
            "7/7 [==============================] - 0s 45ms/step - loss: 0.1218 - accuracy: 0.9802 - val_loss: 0.4997 - val_accuracy: 0.8039\n",
            "Epoch 27/50\n",
            "7/7 [==============================] - 0s 47ms/step - loss: 0.1061 - accuracy: 0.9851 - val_loss: 0.4992 - val_accuracy: 0.8431\n",
            "Epoch 28/50\n",
            "7/7 [==============================] - 0s 47ms/step - loss: 0.1043 - accuracy: 0.9703 - val_loss: 0.5020 - val_accuracy: 0.8235\n",
            "Epoch 29/50\n",
            "7/7 [==============================] - 0s 45ms/step - loss: 0.0915 - accuracy: 0.9851 - val_loss: 0.5627 - val_accuracy: 0.8039\n",
            "Epoch 30/50\n",
            "7/7 [==============================] - 0s 45ms/step - loss: 0.0756 - accuracy: 0.9851 - val_loss: 0.5294 - val_accuracy: 0.8235\n",
            "Epoch 31/50\n",
            "7/7 [==============================] - 0s 47ms/step - loss: 0.0648 - accuracy: 0.9901 - val_loss: 0.5575 - val_accuracy: 0.8235\n",
            "Epoch 32/50\n",
            "7/7 [==============================] - 0s 45ms/step - loss: 0.0535 - accuracy: 0.9901 - val_loss: 0.5770 - val_accuracy: 0.8431\n",
            "Epoch 33/50\n",
            "7/7 [==============================] - 0s 45ms/step - loss: 0.0438 - accuracy: 1.0000 - val_loss: 0.5918 - val_accuracy: 0.8431\n",
            "Epoch 34/50\n",
            "7/7 [==============================] - 0s 51ms/step - loss: 0.0372 - accuracy: 1.0000 - val_loss: 0.6033 - val_accuracy: 0.8431\n",
            "Epoch 35/50\n",
            "7/7 [==============================] - 0s 45ms/step - loss: 0.0346 - accuracy: 1.0000 - val_loss: 0.6258 - val_accuracy: 0.8431\n",
            "Epoch 36/50\n",
            "7/7 [==============================] - 0s 44ms/step - loss: 0.0280 - accuracy: 1.0000 - val_loss: 0.6396 - val_accuracy: 0.8431\n",
            "Epoch 37/50\n",
            "7/7 [==============================] - 0s 46ms/step - loss: 0.0249 - accuracy: 1.0000 - val_loss: 0.6668 - val_accuracy: 0.8039\n",
            "Epoch 38/50\n",
            "7/7 [==============================] - 0s 45ms/step - loss: 0.0216 - accuracy: 1.0000 - val_loss: 0.6713 - val_accuracy: 0.8431\n",
            "Epoch 39/50\n",
            "7/7 [==============================] - 0s 45ms/step - loss: 0.0189 - accuracy: 1.0000 - val_loss: 0.6740 - val_accuracy: 0.8431\n",
            "Epoch 40/50\n",
            "7/7 [==============================] - 0s 46ms/step - loss: 0.0165 - accuracy: 1.0000 - val_loss: 0.7092 - val_accuracy: 0.8431\n",
            "Epoch 41/50\n",
            "7/7 [==============================] - 0s 49ms/step - loss: 0.0147 - accuracy: 1.0000 - val_loss: 0.7198 - val_accuracy: 0.8431\n",
            "Epoch 42/50\n",
            "7/7 [==============================] - 0s 45ms/step - loss: 0.0131 - accuracy: 1.0000 - val_loss: 0.7380 - val_accuracy: 0.8431\n",
            "Epoch 43/50\n",
            "7/7 [==============================] - 0s 45ms/step - loss: 0.0119 - accuracy: 1.0000 - val_loss: 0.7532 - val_accuracy: 0.8235\n",
            "Epoch 44/50\n",
            "7/7 [==============================] - 0s 48ms/step - loss: 0.0110 - accuracy: 1.0000 - val_loss: 0.7491 - val_accuracy: 0.8431\n",
            "Epoch 45/50\n",
            "7/7 [==============================] - 0s 48ms/step - loss: 0.0101 - accuracy: 1.0000 - val_loss: 0.7846 - val_accuracy: 0.8235\n",
            "Epoch 46/50\n",
            "7/7 [==============================] - 0s 46ms/step - loss: 0.0088 - accuracy: 1.0000 - val_loss: 0.7889 - val_accuracy: 0.8431\n",
            "Epoch 47/50\n",
            "7/7 [==============================] - 0s 49ms/step - loss: 0.0084 - accuracy: 1.0000 - val_loss: 0.7899 - val_accuracy: 0.8431\n",
            "Epoch 48/50\n",
            "7/7 [==============================] - 0s 44ms/step - loss: 0.0074 - accuracy: 1.0000 - val_loss: 0.8155 - val_accuracy: 0.8039\n",
            "Epoch 49/50\n",
            "7/7 [==============================] - 0s 44ms/step - loss: 0.0070 - accuracy: 1.0000 - val_loss: 0.8133 - val_accuracy: 0.8431\n",
            "Epoch 50/50\n",
            "7/7 [==============================] - 0s 47ms/step - loss: 0.0064 - accuracy: 1.0000 - val_loss: 0.8280 - val_accuracy: 0.8235\n"
          ]
        }
      ]
    },
    {
      "cell_type": "code",
      "source": [
        "plt.plot(history.history['accuracy'], label='accuracy')\n",
        "plt.plot(history.history['val_accuracy'], label = 'val_accuracy')\n",
        "plt.xlabel('Epoch')\n",
        "plt.ylabel('Accuracy')\n",
        "plt.ylim([0.4, 1])\n",
        "plt.xlim([-1, 11])\n",
        "plt.legend(loc='lower right')\n",
        "\n",
        "test_loss, test_acc = model.evaluate(test_Images,  test_Labels, verbose=2)"
      ],
      "metadata": {
        "colab": {
          "base_uri": "https://localhost:8080/",
          "height": 300
        },
        "id": "GGG4-yoqppol",
        "outputId": "a08971a0-2d00-4844-db9f-b34927dc402c"
      },
      "execution_count": null,
      "outputs": [
        {
          "output_type": "stream",
          "name": "stdout",
          "text": [
            "2/2 - 0s - loss: 0.8280 - accuracy: 0.8235 - 55ms/epoch - 28ms/step\n"
          ]
        },
        {
          "output_type": "display_data",
          "data": {
            "text/plain": [
              "<Figure size 432x288 with 1 Axes>"
            ],
            "image/png": "[encoded data removed]"
          },
          "metadata": {
            "needs_background": "light"
          }
        }
      ]
    },
    {
      "cell_type": "code",
      "source": [
        "predictions = model.predict(Images)\n",
        "print(predictions.shape)\n",
        "predictions = (np.expand_dims(img, 0))\n",
        "print(predictions.shape)"
      ],
      "metadata": {
        "colab": {
          "base_uri": "https://localhost:8080/"
        },
        "id": "kLyfh9O_nnXg",
        "outputId": "452300fa-533b-4d16-9cef-0d7fc3162be2"
      },
      "execution_count": null,
      "outputs": [
        {
          "output_type": "stream",
          "name": "stdout",
          "text": [
            "8/8 [==============================] - 0s 23ms/step\n",
            "(253, 10)\n",
            "(1, 512, 512, 3)\n"
          ]
        }
      ]
    },
    {
      "cell_type": "markdown",
      "source": [
        "**First classification**"
      ],
      "metadata": {
        "id": "rPAYdSgReDAl"
      }
    },
    {
      "cell_type": "code",
      "source": [
        "img = Images[167]\n",
        "print(img.shape)\n",
        "img = (np.expand_dims(img, 0))\n",
        "print(img.shape)"
      ],
      "metadata": {
        "colab": {
          "base_uri": "https://localhost:8080/"
        },
        "id": "IRieGTFggZAq",
        "outputId": "dd68ebd0-c3d6-4a7f-b9d3-bc6849c41e09"
      },
      "execution_count": null,
      "outputs": [
        {
          "output_type": "stream",
          "name": "stdout",
          "text": [
            "(28, 28, 3)\n",
            "(1, 28, 28, 3)\n"
          ]
        }
      ]
    },
    {
      "cell_type": "code",
      "source": [
        "plt.figure()\n",
        "plt.imshow(Images[167])\n",
        "plt.colorbar()\n",
        "plt.grid(False)\n",
        "plt.show()\n",
        "y = Labels[167]"
      ],
      "metadata": {
        "colab": {
          "base_uri": "https://localhost:8080/",
          "height": 265
        },
        "id": "nnW5LOSYlwvz",
        "outputId": "0f013125-271e-4b4d-807b-e4d0375466e2"
      },
      "execution_count": null,
      "outputs": [
        {
          "output_type": "display_data",
          "data": {
            "text/plain": [
              "<Figure size 432x288 with 2 Axes>"
            ],
            "image/png": "[encoded data removed]"
          },
          "metadata": {
            "needs_background": "light"
          }
        }
      ]
    },
    {
      "cell_type": "code",
      "source": [
        "predictions= model.predict(img)\n",
        "print(predictions)\n",
        "print(np.sum(predictions))\n",
        "print(np.argmax(predictions))\n",
        "print(\"The predicted class is: \", class_names[np.argmax(predictions)])\n",
        "print(\"The real class is: \", class_names[y])"
      ],
      "metadata": {
        "colab": {
          "base_uri": "https://localhost:8080/"
        },
        "id": "2Sco10N0mS5H",
        "outputId": "f09569f8-6efb-4ea9-b3c4-6a35e7cdcba4"
      },
      "execution_count": null,
      "outputs": [
        {
          "output_type": "stream",
          "name": "stdout",
          "text": [
            "1/1 [==============================] - 0s 19ms/step\n",
            "[[0. 1. 0. 0. 0. 0. 0. 0. 0. 0.]]\n",
            "1.0\n",
            "1\n",
            "The predicted class is:  No_Brain_Tumor\n",
            "The real class is:  No_Brain_Tumor\n"
          ]
        }
      ]
    },
    {
      "cell_type": "markdown",
      "source": [
        "**Second classification**"
      ],
      "metadata": {
        "id": "XVwJnecBeIch"
      }
    },
    {
      "cell_type": "code",
      "source": [
        "img = Images[29]\n",
        "print(img.shape)\n",
        "img = (np.expand_dims(img, 0))\n",
        "print(img.shape)"
      ],
      "metadata": {
        "colab": {
          "base_uri": "https://localhost:8080/"
        },
        "outputId": "d3c024a3-12d1-485b-db57-8f611693960a",
        "id": "9Y3hQvbgtqQe"
      },
      "execution_count": null,
      "outputs": [
        {
          "output_type": "stream",
          "name": "stdout",
          "text": [
            "(28, 28, 3)\n",
            "(1, 28, 28, 3)\n"
          ]
        }
      ]
    },
    {
      "cell_type": "code",
      "source": [
        "plt.figure()\n",
        "plt.imshow(Images[29])\n",
        "plt.colorbar()\n",
        "plt.grid(False)\n",
        "plt.show()\n",
        "y = Labels[29]"
      ],
      "metadata": {
        "colab": {
          "base_uri": "https://localhost:8080/",
          "height": 265
        },
        "outputId": "c61ba84d-8295-44f2-c169-4513fb91d889",
        "id": "Ua2iIv7WttAp"
      },
      "execution_count": null,
      "outputs": [
        {
          "output_type": "display_data",
          "data": {
            "text/plain": [
              "<Figure size 432x288 with 2 Axes>"
            ],
            "image/png": "[encoded data removed]"
          },
          "metadata": {
            "needs_background": "light"
          }
        }
      ]
    },
    {
      "cell_type": "code",
      "source": [
        "predictions= model.predict(img)\n",
        "print(predictions)\n",
        "print(np.sum(predictions))\n",
        "print(np.argmax(predictions))\n",
        "print(\"The predicted class is: \", class_names[np.argmax(predictions)])\n",
        "print(\"The real class is: \", class_names[y])"
      ],
      "metadata": {
        "colab": {
          "base_uri": "https://localhost:8080/"
        },
        "outputId": "83bbc6de-2554-4e61-a9d3-0eb8e5fd29bb",
        "id": "EQ9Q2JYktxxX"
      },
      "execution_count": null,
      "outputs": [
        {
          "output_type": "stream",
          "name": "stdout",
          "text": [
            "1/1 [==============================] - 0s 19ms/step\n",
            "[[1. 0. 0. 0. 0. 0. 0. 0. 0. 0.]]\n",
            "1.0\n",
            "0\n",
            "The predicted class is:  Brain_Tumor\n",
            "The real class is:  Brain_Tumor\n"
          ]
        }
      ]
    },
    {
      "cell_type": "markdown",
      "source": [
        "***Third classification***"
      ],
      "metadata": {
        "id": "fSDWAy44eNZ4"
      }
    },
    {
      "cell_type": "code",
      "source": [
        "img = Images[175]\n",
        "print(img.shape)\n",
        "img = (np.expand_dims(img, 0))\n",
        "print(img.shape)"
      ],
      "metadata": {
        "colab": {
          "base_uri": "https://localhost:8080/"
        },
        "outputId": "f07f298d-ac28-4c73-a66c-a329b76ebd7c",
        "id": "ftmWmCuWuKoA"
      },
      "execution_count": null,
      "outputs": [
        {
          "output_type": "stream",
          "name": "stdout",
          "text": [
            "(28, 28, 3)\n",
            "(1, 28, 28, 3)\n"
          ]
        }
      ]
    },
    {
      "cell_type": "code",
      "source": [
        "plt.figure()\n",
        "plt.imshow(Images[175])\n",
        "plt.colorbar()\n",
        "plt.grid(False)\n",
        "plt.show()\n",
        "y = Labels[175]"
      ],
      "metadata": {
        "colab": {
          "base_uri": "https://localhost:8080/",
          "height": 268
        },
        "outputId": "ab2e984b-b494-4f8b-f506-7dd90546cb07",
        "id": "Lr34C-r1uNad"
      },
      "execution_count": null,
      "outputs": [
        {
          "output_type": "display_data",
          "data": {
            "text/plain": [
              "<Figure size 432x288 with 2 Axes>"
            ],
            "image/png": "[encoded data removed]"
          },
          "metadata": {
            "needs_background": "light"
          }
        }
      ]
    },
    {
      "cell_type": "code",
      "source": [
        "predictions= model.predict(img)\n",
        "print(predictions)\n",
        "print(np.sum(predictions))\n",
        "print(np.argmax(predictions))\n",
        "print(\"The predicted class is: \", class_names[np.argmax(predictions)])\n",
        "print(\"The real class is: \", class_names[y])"
      ],
      "metadata": {
        "colab": {
          "base_uri": "https://localhost:8080/"
        },
        "outputId": "65d96f3a-9046-468a-8e36-fa2232d54194",
        "id": "btUxDeosuQ0G"
      },
      "execution_count": null,
      "outputs": [
        {
          "output_type": "stream",
          "name": "stdout",
          "text": [
            "1/1 [==============================] - 0s 18ms/step\n",
            "[[0. 1. 0. 0. 0. 0. 0. 0. 0. 0.]]\n",
            "1.0\n",
            "1\n",
            "The predicted class is:  No_Brain_Tumor\n",
            "The real class is:  No_Brain_Tumor\n"
          ]
        }
      ]
    },
    {
      "cell_type": "markdown",
      "source": [
        "**Fourth classification**"
      ],
      "metadata": {
        "id": "aVUPoA_eeRdg"
      }
    },
    {
      "cell_type": "code",
      "source": [
        "img = Images[169]\n",
        "print(img.shape)\n",
        "img = (np.expand_dims(img, 0))\n",
        "print(img.shape)"
      ],
      "metadata": {
        "colab": {
          "base_uri": "https://localhost:8080/"
        },
        "id": "hc1P88cSdwd6",
        "outputId": "2c31f055-240b-4b7f-a7e1-25b8e72f8b31"
      },
      "execution_count": null,
      "outputs": [
        {
          "output_type": "stream",
          "name": "stdout",
          "text": [
            "(28, 28, 3)\n",
            "(1, 28, 28, 3)\n"
          ]
        }
      ]
    },
    {
      "cell_type": "code",
      "source": [
        "plt.figure()\n",
        "plt.imshow(Images[169])\n",
        "plt.colorbar()\n",
        "plt.grid(False)\n",
        "plt.show()\n",
        "y = Labels[169]"
      ],
      "metadata": {
        "colab": {
          "base_uri": "https://localhost:8080/",
          "height": 267
        },
        "id": "pMhsF_vHdwrt",
        "outputId": "dbb9b949-99ef-48ea-cc14-4a11797c33b7"
      },
      "execution_count": null,
      "outputs": [
        {
          "output_type": "display_data",
          "data": {
            "text/plain": [
              "<Figure size 432x288 with 2 Axes>"
            ],
            "image/png": "[encoded data removed]"
          },
          "metadata": {
            "needs_background": "light"
          }
        }
      ]
    },
    {
      "cell_type": "code",
      "source": [
        "predictions= model.predict(img)\n",
        "print(predictions)\n",
        "print(np.sum(predictions))\n",
        "print(np.argmax(predictions))\n",
        "print(\"The predicted class is: \", class_names[np.argmax(predictions)])\n",
        "print(\"The real class is: \", class_names[y])"
      ],
      "metadata": {
        "colab": {
          "base_uri": "https://localhost:8080/"
        },
        "id": "WDxC6Dmmdw3M",
        "outputId": "ab8bf3e0-cab1-4bd4-8d48-2574ade5d200"
      },
      "execution_count": null,
      "outputs": [
        {
          "output_type": "stream",
          "name": "stdout",
          "text": [
            "1/1 [==============================] - 0s 19ms/step\n",
            "[[0. 1. 0. 0. 0. 0. 0. 0. 0. 0.]]\n",
            "1.0\n",
            "1\n",
            "The predicted class is:  No_Brain_Tumor\n",
            "The real class is:  No_Brain_Tumor\n"
          ]
        }
      ]
    },
    {
      "cell_type": "markdown",
      "source": [
        "**Fifth classification**"
      ],
      "metadata": {
        "id": "1YUa3fVkfJBa"
      }
    },
    {
      "cell_type": "code",
      "source": [
        "img = Images[126]\n",
        "print(img.shape)\n",
        "img = (np.expand_dims(img, 0))\n",
        "print(img.shape)"
      ],
      "metadata": {
        "colab": {
          "base_uri": "https://localhost:8080/"
        },
        "id": "H9Ug1Tqnd5UG",
        "outputId": "730c4e37-b25b-4b75-a051-9d6b6a4ef0b0"
      },
      "execution_count": null,
      "outputs": [
        {
          "output_type": "stream",
          "name": "stdout",
          "text": [
            "(28, 28, 3)\n",
            "(1, 28, 28, 3)\n"
          ]
        }
      ]
    },
    {
      "cell_type": "code",
      "source": [
        "plt.figure()\n",
        "plt.imshow(Images[126])\n",
        "plt.colorbar()\n",
        "plt.grid(False)\n",
        "plt.show()\n",
        "y = Labels[126]"
      ],
      "metadata": {
        "colab": {
          "base_uri": "https://localhost:8080/",
          "height": 265
        },
        "id": "sZ68DN1id81M",
        "outputId": "d18fae05-ac6a-46a3-98fb-6788044b7bff"
      },
      "execution_count": null,
      "outputs": [
        {
          "output_type": "display_data",
          "data": {
            "text/plain": [
              "<Figure size 432x288 with 2 Axes>"
            ],
            "image/png": "[encoded data removed]"
          },
          "metadata": {
            "needs_background": "light"
          }
        }
      ]
    },
    {
      "cell_type": "code",
      "source": [
        "predictions= model.predict(img)\n",
        "print(predictions)\n",
        "print(np.sum(predictions))\n",
        "print(np.argmax(predictions))\n",
        "print(\"The predicted class is: \", class_names[np.argmax(predictions)])\n",
        "print(\"The real class is: \", class_names[y])"
      ],
      "metadata": {
        "colab": {
          "base_uri": "https://localhost:8080/"
        },
        "id": "uweEwtpTd_LF",
        "outputId": "b4e612f3-65ac-45e5-90fb-02450826ff6c"
      },
      "execution_count": null,
      "outputs": [
        {
          "output_type": "stream",
          "name": "stdout",
          "text": [
            "1/1 [==============================] - 0s 20ms/step\n",
            "[[1. 0. 0. 0. 0. 0. 0. 0. 0. 0.]]\n",
            "1.0\n",
            "0\n",
            "The predicted class is:  Brain_Tumor\n",
            "The real class is:  Brain_Tumor\n"
          ]
        }
      ]
    },
    {
      "cell_type": "markdown",
      "source": [
        "**sixth classification**"
      ],
      "metadata": {
        "id": "pE9XfKcZpJcg"
      }
    },
    {
      "cell_type": "code",
      "source": [
        "img = Images[16]\n",
        "print(img.shape)\n",
        "img = (np.expand_dims(img, 0))\n",
        "print(img.shape)"
      ],
      "metadata": {
        "colab": {
          "base_uri": "https://localhost:8080/"
        },
        "id": "vcgicKl4oVmn",
        "outputId": "333c45b3-ef54-4100-9634-52d8815d6f18"
      },
      "execution_count": null,
      "outputs": [
        {
          "output_type": "stream",
          "name": "stdout",
          "text": [
            "(28, 28, 3)\n",
            "(1, 28, 28, 3)\n"
          ]
        }
      ]
    },
    {
      "cell_type": "code",
      "source": [
        "plt.figure()\n",
        "plt.imshow(Images[16])\n",
        "plt.colorbar()\n",
        "plt.grid(False)\n",
        "plt.show()\n",
        "y = Labels[16]"
      ],
      "metadata": {
        "colab": {
          "base_uri": "https://localhost:8080/",
          "height": 265
        },
        "id": "oG6Vyq7joV2_",
        "outputId": "fc377715-422c-4b5b-f601-c34b096e4002"
      },
      "execution_count": null,
      "outputs": [
        {
          "output_type": "display_data",
          "data": {
            "text/plain": [
              "<Figure size 432x288 with 2 Axes>"
            ],
            "image/png": "[encoded data removed]"
          },
          "metadata": {
            "needs_background": "light"
          }
        }
      ]
    },
    {
      "cell_type": "code",
      "source": [
        "predictions= model.predict(img)\n",
        "print(predictions)\n",
        "print(np.sum(predictions))\n",
        "print(np.argmax(predictions))\n",
        "print(\"The predicted class is: \", class_names[np.argmax(predictions)])\n",
        "print(\"The real class is: \", class_names[y])"
      ],
      "metadata": {
        "colab": {
          "base_uri": "https://localhost:8080/"
        },
        "id": "_xiGmDTroWDR",
        "outputId": "09dc5dc7-a536-4ded-857f-ea7c0b435b50"
      },
      "execution_count": null,
      "outputs": [
        {
          "output_type": "stream",
          "name": "stdout",
          "text": [
            "1/1 [==============================] - 0s 20ms/step\n",
            "[[1. 0. 0. 0. 0. 0. 0. 0. 0. 0.]]\n",
            "1.0\n",
            "0\n",
            "The predicted class is:  Brain_Tumor\n",
            "The real class is:  Brain_Tumor\n"
          ]
        }
      ]
    },
    {
      "cell_type": "markdown",
      "source": [
        "**seventh classification**"
      ],
      "metadata": {
        "id": "N3jibsJrpKl1"
      }
    },
    {
      "cell_type": "code",
      "source": [
        "img = Images[23]\n",
        "print(img.shape)\n",
        "img = (np.expand_dims(img, 0))\n",
        "print(img.shape)"
      ],
      "metadata": {
        "colab": {
          "base_uri": "https://localhost:8080/"
        },
        "id": "c9YuvGZ4omSO",
        "outputId": "4ad9dd29-2416-428e-eea6-e2b89785175b"
      },
      "execution_count": null,
      "outputs": [
        {
          "output_type": "stream",
          "name": "stdout",
          "text": [
            "(28, 28, 3)\n",
            "(1, 28, 28, 3)\n"
          ]
        }
      ]
    },
    {
      "cell_type": "code",
      "source": [
        "plt.figure()\n",
        "plt.imshow(Images[23])\n",
        "plt.colorbar()\n",
        "plt.grid(False)\n",
        "plt.show()\n",
        "y = Labels[23]"
      ],
      "metadata": {
        "colab": {
          "base_uri": "https://localhost:8080/",
          "height": 265
        },
        "id": "2YDaYzRsoq0m",
        "outputId": "77060f76-0061-46b5-e200-1065123987c6"
      },
      "execution_count": null,
      "outputs": [
        {
          "output_type": "display_data",
          "data": {
            "text/plain": [
              "<Figure size 432x288 with 2 Axes>"
            ],
            "image/png": "[encoded data removed]"
          },
          "metadata": {
            "needs_background": "light"
          }
        }
      ]
    },
    {
      "cell_type": "code",
      "source": [
        "predictions= model.predict(img)\n",
        "print(predictions)\n",
        "print(np.sum(predictions))\n",
        "print(np.argmax(predictions))\n",
        "print(\"The predicted class is: \", class_names[np.argmax(predictions)])\n",
        "print(\"The real class is: \", class_names[y])"
      ],
      "metadata": {
        "colab": {
          "base_uri": "https://localhost:8080/"
        },
        "id": "GMEE3fw7o1jT",
        "outputId": "ea169cd3-4554-4b94-ff7d-f84485abae4a"
      },
      "execution_count": null,
      "outputs": [
        {
          "output_type": "stream",
          "name": "stdout",
          "text": [
            "1/1 [==============================] - 0s 18ms/step\n",
            "[[1. 0. 0. 0. 0. 0. 0. 0. 0. 0.]]\n",
            "1.0\n",
            "0\n",
            "The predicted class is:  Brain_Tumor\n",
            "The real class is:  Brain_Tumor\n"
          ]
        }
      ]
    },
    {
      "cell_type": "markdown",
      "source": [
        "**eighth classification**"
      ],
      "metadata": {
        "id": "UOwhO9z_pLfT"
      }
    },
    {
      "cell_type": "code",
      "source": [
        "img = Images[199]\n",
        "print(img.shape)\n",
        "img = (np.expand_dims(img, 0))\n",
        "print(img.shape)"
      ],
      "metadata": {
        "colab": {
          "base_uri": "https://localhost:8080/"
        },
        "id": "OUhIRE4qomcj",
        "outputId": "db9443e4-26e2-4718-c58b-75ee6c413774"
      },
      "execution_count": null,
      "outputs": [
        {
          "output_type": "stream",
          "name": "stdout",
          "text": [
            "(28, 28, 3)\n",
            "(1, 28, 28, 3)\n"
          ]
        }
      ]
    },
    {
      "cell_type": "code",
      "source": [
        "plt.figure()\n",
        "plt.imshow(Images[199])\n",
        "plt.colorbar()\n",
        "plt.grid(False)\n",
        "plt.show()\n",
        "y = Labels[199]"
      ],
      "metadata": {
        "colab": {
          "base_uri": "https://localhost:8080/",
          "height": 265
        },
        "id": "1I-sRcCUorjm",
        "outputId": "2f42e57f-0f3e-4978-81fa-bc8f7151ae31"
      },
      "execution_count": null,
      "outputs": [
        {
          "output_type": "display_data",
          "data": {
            "text/plain": [
              "<Figure size 432x288 with 2 Axes>"
            ],
            "image/png": "[encoded data removed]"
          },
          "metadata": {
            "needs_background": "light"
          }
        }
      ]
    },
    {
      "cell_type": "code",
      "source": [
        "predictions= model.predict(img)\n",
        "print(predictions)\n",
        "print(np.sum(predictions))\n",
        "print(np.argmax(predictions))\n",
        "print(\"The predicted class is: \", class_names[np.argmax(predictions)])\n",
        "print(\"The real class is: \", class_names[y])"
      ],
      "metadata": {
        "colab": {
          "base_uri": "https://localhost:8080/"
        },
        "id": "xkbsUtdXo28W",
        "outputId": "e2ab4e1c-3e5b-46c7-f860-e0cc16e18f70"
      },
      "execution_count": null,
      "outputs": [
        {
          "output_type": "stream",
          "name": "stdout",
          "text": [
            "1/1 [==============================] - 0s 22ms/step\n",
            "[[0. 1. 0. 0. 0. 0. 0. 0. 0. 0.]]\n",
            "1.0\n",
            "1\n",
            "The predicted class is:  No_Brain_Tumor\n",
            "The real class is:  No_Brain_Tumor\n"
          ]
        }
      ]
    },
    {
      "cell_type": "markdown",
      "source": [
        "**ninth classification**"
      ],
      "metadata": {
        "id": "_BNAAXLhpMkM"
      }
    },
    {
      "cell_type": "code",
      "source": [
        "img = Images[7]\n",
        "print(img.shape)\n",
        "img = (np.expand_dims(img, 0))\n",
        "print(img.shape)"
      ],
      "metadata": {
        "colab": {
          "base_uri": "https://localhost:8080/"
        },
        "id": "Fs0h-uQrommk",
        "outputId": "5c7fa93c-d306-4129-b9a2-da191bd2a342"
      },
      "execution_count": null,
      "outputs": [
        {
          "output_type": "stream",
          "name": "stdout",
          "text": [
            "(28, 28, 3)\n",
            "(1, 28, 28, 3)\n"
          ]
        }
      ]
    },
    {
      "cell_type": "code",
      "source": [
        "plt.figure()\n",
        "plt.imshow(Images[7])\n",
        "plt.colorbar()\n",
        "plt.grid(False)\n",
        "plt.show()\n",
        "y = Labels[7]"
      ],
      "metadata": {
        "colab": {
          "base_uri": "https://localhost:8080/",
          "height": 265
        },
        "id": "ILtaTdA7ors0",
        "outputId": "5a04e45e-b8d3-4f6a-82b7-278caf3c2328"
      },
      "execution_count": null,
      "outputs": [
        {
          "output_type": "display_data",
          "data": {
            "text/plain": [
              "<Figure size 432x288 with 2 Axes>"
            ],
            "image/png": "[encoded data removed]"
          },
          "metadata": {
            "needs_background": "light"
          }
        }
      ]
    },
    {
      "cell_type": "code",
      "source": [
        "predictions= model.predict(img)\n",
        "print(predictions)\n",
        "print(np.sum(predictions))\n",
        "print(np.argmax(predictions))\n",
        "print(\"The predicted class is: \", class_names[np.argmax(predictions)])\n",
        "print(\"The real class is: \", class_names[y])"
      ],
      "metadata": {
        "colab": {
          "base_uri": "https://localhost:8080/"
        },
        "id": "GU3FB4Hyo7GE",
        "outputId": "2f9512cf-4f66-4e2d-e1b5-69a59d577e50"
      },
      "execution_count": null,
      "outputs": [
        {
          "output_type": "stream",
          "name": "stdout",
          "text": [
            "1/1 [==============================] - 0s 17ms/step\n",
            "[[1. 0. 0. 0. 0. 0. 0. 0. 0. 0.]]\n",
            "1.0\n",
            "0\n",
            "The predicted class is:  Brain_Tumor\n",
            "The real class is:  Brain_Tumor\n"
          ]
        }
      ]
    },
    {
      "cell_type": "markdown",
      "source": [
        "**tenth classification**"
      ],
      "metadata": {
        "id": "uA2bAVYIpNtf"
      }
    },
    {
      "cell_type": "code",
      "source": [
        "img = Images[250]\n",
        "print(img.shape)\n",
        "img = (np.expand_dims(img, 0))\n",
        "print(img.shape)"
      ],
      "metadata": {
        "colab": {
          "base_uri": "https://localhost:8080/"
        },
        "id": "NBcTJRjwomxv",
        "outputId": "b34bbb52-72cc-467f-d4b0-741acb693b37"
      },
      "execution_count": null,
      "outputs": [
        {
          "output_type": "stream",
          "name": "stdout",
          "text": [
            "(28, 28, 3)\n",
            "(1, 28, 28, 3)\n"
          ]
        }
      ]
    },
    {
      "cell_type": "code",
      "source": [
        "plt.figure()\n",
        "plt.imshow(Images[250])\n",
        "plt.colorbar()\n",
        "plt.grid(False)\n",
        "plt.show()\n",
        "y = Labels[250]"
      ],
      "metadata": {
        "colab": {
          "base_uri": "https://localhost:8080/",
          "height": 265
        },
        "id": "JyiWSBd_or4N",
        "outputId": "6f1cd359-f7b5-4faa-98ac-20d05588bca8"
      },
      "execution_count": null,
      "outputs": [
        {
          "output_type": "display_data",
          "data": {
            "text/plain": [
              "<Figure size 432x288 with 2 Axes>"
            ],
            "image/png": "[encoded data removed]"
          },
          "metadata": {
            "needs_background": "light"
          }
        }
      ]
    },
    {
      "cell_type": "code",
      "source": [
        "predictions= model.predict(img)\n",
        "print(predictions)\n",
        "print(np.sum(predictions))\n",
        "print(np.argmax(predictions))\n",
        "print(\"The predicted class is: \", class_names[np.argmax(predictions)])\n",
        "print(\"The real class is: \", class_names[y])"
      ],
      "metadata": {
        "colab": {
          "base_uri": "https://localhost:8080/"
        },
        "id": "3ji4_t-Qo93r",
        "outputId": "b3a94f5e-6788-4dd4-a36c-f2bca506c5f9"
      },
      "execution_count": null,
      "outputs": [
        {
          "output_type": "stream",
          "name": "stdout",
          "text": [
            "1/1 [==============================] - 0s 19ms/step\n",
            "[[0. 1. 0. 0. 0. 0. 0. 0. 0. 0.]]\n",
            "1.0\n",
            "1\n",
            "The predicted class is:  No_Brain_Tumor\n",
            "The real class is:  No_Brain_Tumor\n"
          ]
        }
      ]
    }
  ]
}