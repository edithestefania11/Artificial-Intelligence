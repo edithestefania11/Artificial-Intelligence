{
  "nbformat": 4,
  "nbformat_minor": 0,
  "metadata": {
    "colab": {
      "provenance": [],
      "collapsed_sections": []
    },
    "kernelspec": {
      "name": "python3",
      "display_name": "Python 3"
    },
    "language_info": {
      "name": "python"
    }
  },
  "cells": [
    {
      "cell_type": "markdown",
      "source": [
        "A2: Python exercises\n",
        "Edith Estefanía González Vallejo\n",
        "1900388\n",
        "AI Tuesday N4\n",
        "\n"
      ],
      "metadata": {
        "id": "cTP0kQtC0J49"
      }
    },
    {
      "cell_type": "code",
      "source": [
        "name = str(input(\"What is your name? \"))\n",
        "if name == \"Ana\":\n",
        "   print(\"Error\")\n",
        "elif name == \"John\":\n",
        "   print(\"Error\")\n",
        "elif name == \"Peter\":\n",
        "   print(\"Error\")\n",
        "else:\n",
        "   print(\"Hello, {}!\".format(name))\n",
        "\n"
      ],
      "metadata": {
        "colab": {
          "base_uri": "https://localhost:8080/"
        },
        "id": "JU_gHwUpA4ur",
        "outputId": "ad3446a0-a473-464e-a434-9b8ae3aedbc7"
      },
      "execution_count": 11,
      "outputs": [
        {
          "output_type": "stream",
          "name": "stdout",
          "text": [
            "What is your name? Edith\n",
            "Hello, Edith!\n"
          ]
        }
      ]
    },
    {
      "cell_type": "code",
      "source": [
        "list = ['Mickey', 'Minnie', 'Pluto', 'Goofy', 'Donald']\n",
        "\n",
        "def last_element(list):\n",
        "    print(list[-1])\n",
        "\n",
        "last_element(list)\n",
        "\n",
        "def revert(list):\n",
        "    print(list[::-1])\n",
        "    \n",
        "revert(list)\n"
      ],
      "metadata": {
        "colab": {
          "base_uri": "https://localhost:8080/"
        },
        "id": "ZYHB8i5ePtCz",
        "outputId": "9624406f-cc02-43c7-fbdc-5b4e5b8df25e"
      },
      "execution_count": 14,
      "outputs": [
        {
          "output_type": "stream",
          "name": "stdout",
          "text": [
            "Donald\n",
            "['Donald', 'Goofy', 'Pluto', 'Minnie', 'Mickey']\n"
          ]
        }
      ]
    },
    {
      "cell_type": "code",
      "source": [
        "def print_rectangle(lst):\n",
        "    max_length = max([len(x) for x in lst])\n",
        "    print('*' + '*'*max_length + '*')\n",
        "    for x in lst:\n",
        "        print('*' + x + ' '*(max_length - len(x)) + '*')\n",
        "    print('*' + '*'*max_length + '*')\n",
        "\n",
        "print_rectangle(['Hi,', 'I', 'am', 'Edith', 'Estefanía', ':D'])"
      ],
      "metadata": {
        "colab": {
          "base_uri": "https://localhost:8080/"
        },
        "id": "uSnwBNyVRu_I",
        "outputId": "0a3fc26f-83f9-4e02-9748-76446e17a60d"
      },
      "execution_count": 42,
      "outputs": [
        {
          "output_type": "stream",
          "name": "stdout",
          "text": [
            "***********\n",
            "*Hi,      *\n",
            "*I        *\n",
            "*am       *\n",
            "*Edith    *\n",
            "*Estefanía*\n",
            "*:D       *\n",
            "***********\n"
          ]
        }
      ]
    }
  ]
}